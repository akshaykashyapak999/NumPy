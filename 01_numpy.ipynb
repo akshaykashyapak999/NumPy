{
 "cells": [
  {
   "cell_type": "markdown",
   "id": "9b170f27-b849-4ea9-81e8-f0ba117b5ff7",
   "metadata": {},
   "source": [
    "<div class=\"alert alert-block alert-info\" style=\"margin-top: 20px\"><h1> NumPy</h1>\n",
    "<code>By AKSHAY KASHYAP</code></div>"
   ]
  },
  {
   "cell_type": "code",
   "execution_count": 1,
   "id": "20062440-79e7-43ba-970e-abefb887fd38",
   "metadata": {},
   "outputs": [],
   "source": [
    "import numpy as np"
   ]
  },
  {
   "cell_type": "code",
   "execution_count": 2,
   "id": "867586ac-c85e-4768-9ff0-e0f729b01458",
   "metadata": {},
   "outputs": [
    {
     "data": {
      "text/plain": [
       "'1.26.4'"
      ]
     },
     "execution_count": 2,
     "metadata": {},
     "output_type": "execute_result"
    }
   ],
   "source": [
    "np.__version__"
   ]
  },
  {
   "cell_type": "markdown",
   "id": "4971829d-7019-4ca5-b4a8-3cbd2c2ef9c1",
   "metadata": {},
   "source": [
    "<hr><div class=\"alert alert-block alert-success\" style=\"margin-top: 20px; color:\"><h2>Vectorize Operation</h2></div><hr>"
   ]
  },
  {
   "cell_type": "markdown",
   "id": "366052a7-b4cf-4945-bfaf-ca0a2a8b7e54",
   "metadata": {},
   "source": [
    "<div class=\"alert alert-block alert-danger\" style=\"margin-top: px\"><h2>arithmetic operation on an array</h2></div>"
   ]
  },
  {
   "cell_type": "code",
   "execution_count": 3,
   "id": "81dd1b37-7073-42b2-92a1-1306611c6494",
   "metadata": {},
   "outputs": [],
   "source": [
    "temp = np.array([[1,2,3],[4,5,6],[7,8,9]])"
   ]
  },
  {
   "cell_type": "code",
   "execution_count": 4,
   "id": "da75e1a0-4025-4ac0-86d9-d1c0be50d394",
   "metadata": {},
   "outputs": [
    {
     "data": {
      "text/plain": [
       "2"
      ]
     },
     "execution_count": 4,
     "metadata": {},
     "output_type": "execute_result"
    }
   ],
   "source": [
    "temp.ndim # dimension"
   ]
  },
  {
   "cell_type": "code",
   "execution_count": 5,
   "id": "49529f46-5bbb-48bd-8515-045838798c49",
   "metadata": {},
   "outputs": [
    {
     "data": {
      "text/plain": [
       "array([[1, 2, 3],\n",
       "       [4, 5, 6],\n",
       "       [7, 8, 9]])"
      ]
     },
     "execution_count": 5,
     "metadata": {},
     "output_type": "execute_result"
    }
   ],
   "source": [
    "temp"
   ]
  },
  {
   "cell_type": "code",
   "execution_count": 6,
   "id": "6e016b09-85b3-4f02-b279-c2677ef6c471",
   "metadata": {},
   "outputs": [
    {
     "data": {
      "text/plain": [
       "array([[10, 20, 30],\n",
       "       [40, 50, 60],\n",
       "       [70, 80, 90]])"
      ]
     },
     "execution_count": 6,
     "metadata": {},
     "output_type": "execute_result"
    }
   ],
   "source": [
    "temp*10 # will not replace original temp"
   ]
  },
  {
   "cell_type": "code",
   "execution_count": 7,
   "id": "de8cfa04-9922-46cb-a55a-6b5d48478df3",
   "metadata": {},
   "outputs": [
    {
     "data": {
      "text/plain": [
       "array([[-1,  0,  1],\n",
       "       [ 2,  3,  4],\n",
       "       [ 5,  6,  7]])"
      ]
     },
     "execution_count": 7,
     "metadata": {},
     "output_type": "execute_result"
    }
   ],
   "source": [
    "temp-2"
   ]
  },
  {
   "cell_type": "code",
   "execution_count": 8,
   "id": "01fb4a04-de61-4615-b50e-f50a5d6ea8be",
   "metadata": {},
   "outputs": [
    {
     "data": {
      "text/plain": [
       "array([[ 4,  5,  6],\n",
       "       [ 7,  8,  9],\n",
       "       [10, 11, 12]])"
      ]
     },
     "execution_count": 8,
     "metadata": {},
     "output_type": "execute_result"
    }
   ],
   "source": [
    "temp+3"
   ]
  },
  {
   "cell_type": "code",
   "execution_count": 9,
   "id": "d9662576-3b16-4b96-966f-c6517191cc53",
   "metadata": {},
   "outputs": [],
   "source": [
    "del temp"
   ]
  },
  {
   "cell_type": "markdown",
   "id": "6d2960d0-b27c-4a2b-835a-82ca399c3937",
   "metadata": {},
   "source": [
    "### if u don't delete temp\n",
    "<hr>\n",
    "'''Let Python's Garbage Collector Handle It: In most cases,\n",
    "you don't need to explicitly delete NumPy arrays.\n",
    "Python's garbage collector will automatically reclaim memory \n",
    "when the array is no longer referenced by any variables.''' <hr>"
   ]
  },
  {
   "cell_type": "markdown",
   "id": "8a0c0c0c-f0f4-4771-a3ad-ee47d5bfa421",
   "metadata": {},
   "source": [
    "<div class=\"alert alert-block alert-info\" style=\"margin-top: 20px\"><h2>arithmatic operation on two array</h2></div>"
   ]
  },
  {
   "cell_type": "code",
   "execution_count": 10,
   "id": "26a3878d-269f-4e7d-846c-846e4e0adacf",
   "metadata": {},
   "outputs": [],
   "source": [
    "a = np.array([2,5,9,11])\n",
    "b = np.array([5.9, 7.3, 2.5])"
   ]
  },
  {
   "cell_type": "code",
   "execution_count": 11,
   "id": "c6dd35d3-0658-4283-b3ce-97ce291e32f8",
   "metadata": {},
   "outputs": [
    {
     "name": "stdout",
     "output_type": "stream",
     "text": [
      "[ 2  5  9 11]\n",
      "[5.9 7.3 2.5]\n"
     ]
    }
   ],
   "source": [
    "print(a)\n",
    "print(b)"
   ]
  },
  {
   "cell_type": "code",
   "execution_count": 12,
   "id": "fb05af6a-e83a-4ff9-8dca-9bec226b22e8",
   "metadata": {},
   "outputs": [
    {
     "name": "stdout",
     "output_type": "stream",
     "text": [
      "(4,)\n",
      "(3,)\n"
     ]
    }
   ],
   "source": [
    "print(a.shape)\n",
    "print(b.shape)"
   ]
  },
  {
   "cell_type": "code",
   "execution_count": 13,
   "id": "e17159e9-52a7-4a04-927e-e3c882ca7e63",
   "metadata": {},
   "outputs": [
    {
     "ename": "ValueError",
     "evalue": "operands could not be broadcast together with shapes (4,) (3,) ",
     "output_type": "error",
     "traceback": [
      "\u001b[1;31m---------------------------------------------------------------------------\u001b[0m",
      "\u001b[1;31mValueError\u001b[0m                                Traceback (most recent call last)",
      "Cell \u001b[1;32mIn[13], line 1\u001b[0m\n\u001b[1;32m----> 1\u001b[0m \u001b[43ma\u001b[49m\u001b[38;5;241;43m+\u001b[39;49m\u001b[43mb\u001b[49m \u001b[38;5;66;03m# to add both array must be equal\u001b[39;00m\n\u001b[0;32m      2\u001b[0m \u001b[38;5;66;03m# a , 4 element \u001b[39;00m\n\u001b[0;32m      3\u001b[0m \u001b[38;5;66;03m# b , 3 element\u001b[39;00m\n",
      "\u001b[1;31mValueError\u001b[0m: operands could not be broadcast together with shapes (4,) (3,) "
     ]
    }
   ],
   "source": [
    "a+b # to add both array must be equal\n",
    "# a , 4 element \n",
    "# b , 3 element"
   ]
  },
  {
   "cell_type": "markdown",
   "id": "55cb2fd8-d48a-4540-884e-f91176966128",
   "metadata": {},
   "source": [
    "<hr><div class=\"alert alert-block alert-danger\" style=\"margin-top: 20px\">\n",
    "<h3>Broadcasting</h3>\n",
    "NumPy operations are usually done on pairs of arrays on an element-by-element basis. In the simplest case,<br>\n",
    "the two arrays must have exactly the same shape.\n",
    "\n",
    "NumPy’s broadcasting rule relaxes this constraint when the arrays’ shapes meet certain constraints. When operating<br>\n",
    "on two arrays, NumPy compares their shapes element-wise. It starts with the trailing dimensions, and works its way<br> forward. Two dimensions are compatible when<br>\n",
    "<br>\n",
    "<code>they are equal, or<br></code>\n",
    "<code>one of them is 1<br></code>\n",
    "<br>\n",
    "If these conditions are not met, a ValueError: frames are not aligned exception is thrown, indicating that the arrays<br> have incompatible shapes. The size of the resulting array is the maximum size along each dimension of the<br> input arrays.<br>\n",
    "\n",
    "For more detail, please look up: <code>https://numpy.org/doc/stable/user/basics.broadcasting.html</code>\n",
    "</div><hr>"
   ]
  },
  {
   "cell_type": "code",
   "execution_count": 14,
   "id": "7a5667c0-fc3b-4622-b769-dfc8c4fa5b91",
   "metadata": {},
   "outputs": [],
   "source": [
    "#append \n",
    "b =  np.append(b, 7)"
   ]
  },
  {
   "cell_type": "code",
   "execution_count": 15,
   "id": "6b1961be-821a-42a8-a6f6-cfb427e8e53f",
   "metadata": {},
   "outputs": [
    {
     "data": {
      "text/plain": [
       "array([5.9, 7.3, 2.5, 7. ])"
      ]
     },
     "execution_count": 15,
     "metadata": {},
     "output_type": "execute_result"
    }
   ],
   "source": [
    "b"
   ]
  },
  {
   "cell_type": "code",
   "execution_count": 16,
   "id": "6abf8483-dba9-430b-96e7-599f5898204c",
   "metadata": {},
   "outputs": [],
   "source": [
    "a = np.append(a, [3,51])"
   ]
  },
  {
   "cell_type": "code",
   "execution_count": 17,
   "id": "f9f6f047-8a34-4947-8af6-2e745a86e4f7",
   "metadata": {},
   "outputs": [
    {
     "data": {
      "text/plain": [
       "array([ 2,  5,  9, 11,  3, 51])"
      ]
     },
     "execution_count": 17,
     "metadata": {},
     "output_type": "execute_result"
    }
   ],
   "source": [
    "a"
   ]
  },
  {
   "cell_type": "code",
   "execution_count": 18,
   "id": "46b58680-7f3a-4f77-8c63-a4e6e320c4be",
   "metadata": {},
   "outputs": [
    {
     "name": "stdout",
     "output_type": "stream",
     "text": [
      "(6,)\n",
      "(4,)\n"
     ]
    }
   ],
   "source": [
    "print(a.shape)\n",
    "print(b.shape)"
   ]
  },
  {
   "cell_type": "markdown",
   "id": "a23e0485-1a84-4656-9765-2336f8edccaa",
   "metadata": {},
   "source": [
    "<hr><div class=\"alert alert-block alert-warning\" style=\"margin-top: 20px\">\n",
    "\n",
    "#### Oooooopssss again not equal \n",
    "\n",
    "##### option 1) delete some element from a (now try this)\n",
    "##### option 2) add some element in b (alreay seen)\n",
    "</div>\n",
    "<hr>"
   ]
  },
  {
   "cell_type": "code",
   "execution_count": 19,
   "id": "0097e2d6-c26a-4729-b347-f090a6742ece",
   "metadata": {},
   "outputs": [],
   "source": [
    "# deleting selected element\n",
    "a = np.delete(a, [1, 3]) # deletein a[1],a[2]"
   ]
  },
  {
   "cell_type": "code",
   "execution_count": 20,
   "id": "8fb72e08-9ce2-43f8-a711-72cdb9317d1d",
   "metadata": {},
   "outputs": [
    {
     "name": "stdout",
     "output_type": "stream",
     "text": [
      "(4,)\n",
      "(4,)\n"
     ]
    }
   ],
   "source": [
    "print(a.shape)\n",
    "print(b.shape)"
   ]
  },
  {
   "cell_type": "markdown",
   "id": "ae1f8f6c-8179-402d-b634-0bf43f9cc922",
   "metadata": {},
   "source": [
    "## hurry!!!! we did it"
   ]
  },
  {
   "cell_type": "code",
   "execution_count": 21,
   "id": "700f49bc-bee6-4bdf-b75d-88813d780d82",
   "metadata": {},
   "outputs": [
    {
     "data": {
      "text/plain": [
       "array([ 7.9, 16.3,  5.5, 58. ])"
      ]
     },
     "execution_count": 21,
     "metadata": {},
     "output_type": "execute_result"
    }
   ],
   "source": [
    "a+b #adding"
   ]
  },
  {
   "cell_type": "code",
   "execution_count": 22,
   "id": "ddb58dc7-a97a-419e-a70c-6597d794795f",
   "metadata": {},
   "outputs": [
    {
     "data": {
      "text/plain": [
       "array([-3.9,  1.7,  0.5, 44. ])"
      ]
     },
     "execution_count": 22,
     "metadata": {},
     "output_type": "execute_result"
    }
   ],
   "source": [
    "a-b # substracting b from a"
   ]
  },
  {
   "cell_type": "code",
   "execution_count": 23,
   "id": "b1d6b944-c273-4137-9f1d-082ca018276f",
   "metadata": {},
   "outputs": [
    {
     "data": {
      "text/plain": [
       "array([  3.9,  -1.7,  -0.5, -44. ])"
      ]
     },
     "execution_count": 23,
     "metadata": {},
     "output_type": "execute_result"
    }
   ],
   "source": [
    "b-a # substracting a from b"
   ]
  },
  {
   "cell_type": "code",
   "execution_count": 24,
   "id": "4424e9af-6298-4194-b56d-1dc0c09389b6",
   "metadata": {},
   "outputs": [
    {
     "data": {
      "text/plain": [
       "array([ 11.8,  65.7,   7.5, 357. ])"
      ]
     },
     "execution_count": 24,
     "metadata": {},
     "output_type": "execute_result"
    }
   ],
   "source": [
    "a*b #multiplication"
   ]
  },
  {
   "cell_type": "code",
   "execution_count": 25,
   "id": "05280065-143d-4296-ad5f-916a702bd9d8",
   "metadata": {},
   "outputs": [
    {
     "data": {
      "text/plain": [
       "array([5.97141115e+01, 9.24634979e+06, 1.55884573e+01, 8.97410678e+11])"
      ]
     },
     "execution_count": 25,
     "metadata": {},
     "output_type": "execute_result"
    }
   ],
   "source": [
    "a**b # exponential (power)"
   ]
  },
  {
   "cell_type": "code",
   "execution_count": 26,
   "id": "6408f9b8-18c1-45df-a176-2517a0474816",
   "metadata": {},
   "outputs": [
    {
     "data": {
      "text/plain": [
       "array([0.33898305, 1.23287671, 1.2       , 7.28571429])"
      ]
     },
     "execution_count": 26,
     "metadata": {},
     "output_type": "execute_result"
    }
   ],
   "source": [
    "a/b #division"
   ]
  },
  {
   "cell_type": "markdown",
   "id": "e8cc4543-6e90-406d-9d39-7da7fbc55773",
   "metadata": {},
   "source": [
    "<div class=\"alert alert-block alert-success\" style=\"margin-top: 20px\"><h3>Universal function (ufuncs)</h3></div>"
   ]
  },
  {
   "cell_type": "code",
   "execution_count": 27,
   "id": "a6e8bf58-5504-4448-b2f2-7b10d206cbef",
   "metadata": {},
   "outputs": [
    {
     "name": "stdout",
     "output_type": "stream",
     "text": [
      "sin\n",
      "[0.90929743 0.41211849 0.14112001 0.67022918]\n",
      "cos\n",
      "[-0.41614684 -0.91113026 -0.9899925   0.7421542 ]\n",
      "tan\n",
      "[-2.18503986 -0.45231566 -0.14254654  0.90308615]\n"
     ]
    }
   ],
   "source": [
    "print(\"sin\")\n",
    "print(np.sin(a))\n",
    "\n",
    "print(\"cos\")\n",
    "print(np.cos(a))\n",
    "\n",
    "print(\"tan\")\n",
    "print(np.tan(a))\n",
    "\n",
    "# inverse Trigonometric func\n",
    "    # arcsin, arccos, arctan\n",
    "# hyperbolic Trigonometric func\n",
    "    # sinh, cosh, tanh\n",
    "#inverse hyperbolic Trigonometric\n",
    "    # arcsinh, arccosh, arctanh "
   ]
  },
  {
   "cell_type": "code",
   "execution_count": 28,
   "id": "e4a4d7cd-8847-4de7-bbdf-3804854b569b",
   "metadata": {},
   "outputs": [
    {
     "data": {
      "text/plain": [
       "array([7.38905610e+00, 8.10308393e+03, 2.00855369e+01, 1.40934908e+22])"
      ]
     },
     "execution_count": 28,
     "metadata": {},
     "output_type": "execute_result"
    }
   ],
   "source": [
    "np.exp(a) # exponential"
   ]
  },
  {
   "cell_type": "code",
   "execution_count": 29,
   "id": "4a67bc4d-eebf-475b-b892-16653c601b9d",
   "metadata": {},
   "outputs": [
    {
     "data": {
      "text/plain": [
       "array([     8,    729,     27, 132651], dtype=int32)"
      ]
     },
     "execution_count": 29,
     "metadata": {},
     "output_type": "execute_result"
    }
   ],
   "source": [
    "np.power(a,3) #a**3 "
   ]
  },
  {
   "cell_type": "markdown",
   "id": "6513bbc0-d996-46cb-9070-3f91dc5a527c",
   "metadata": {},
   "source": [
    "<hr><div class=\"alert alert-block alert-info\" style=\"margin-top: 20px\"><h3>Array slicing</h3> </div><hr>"
   ]
  },
  {
   "cell_type": "code",
   "execution_count": 30,
   "id": "b32f9cae-00df-486f-b079-1a40a0654c74",
   "metadata": {},
   "outputs": [],
   "source": [
    "a = np.arange(20).reshape(4,5)"
   ]
  },
  {
   "cell_type": "code",
   "execution_count": 31,
   "id": "a68d3afc-ebc7-4f61-8e96-359a0e786104",
   "metadata": {},
   "outputs": [
    {
     "data": {
      "text/plain": [
       "array([[ 0,  1,  2,  3,  4],\n",
       "       [ 5,  6,  7,  8,  9],\n",
       "       [10, 11, 12, 13, 14],\n",
       "       [15, 16, 17, 18, 19]])"
      ]
     },
     "execution_count": 31,
     "metadata": {},
     "output_type": "execute_result"
    }
   ],
   "source": [
    "a"
   ]
  },
  {
   "cell_type": "code",
   "execution_count": 32,
   "id": "cda128f2-a60f-4f78-b28d-94c49766a2c3",
   "metadata": {},
   "outputs": [
    {
     "data": {
      "text/plain": [
       "array([[ 7,  8],\n",
       "       [12, 13]])"
      ]
     },
     "execution_count": 32,
     "metadata": {},
     "output_type": "execute_result"
    }
   ],
   "source": [
    "# a [ row start : row end, col start : col end]\n",
    "a[1:3, 2:4] # a [row1: row3, ]"
   ]
  },
  {
   "attachments": {
    "3776a387-fd7b-4acd-a140-6d2835a4836b.png": {
     "image/png": "[encoded data removed]"
    }
   },
   "cell_type": "markdown",
   "id": "24880401-24e0-445c-bf44-743a23839e2e",
   "metadata": {},
   "source": [
    "![slicing.png](attachment:3776a387-fd7b-4acd-a140-6d2835a4836b.png)"
   ]
  },
  {
   "cell_type": "code",
   "execution_count": 33,
   "id": "1922e3aa-9bf3-49de-8526-421ab6d09d84",
   "metadata": {},
   "outputs": [
    {
     "name": "stdout",
     "output_type": "stream",
     "text": [
      "2\n"
     ]
    }
   ],
   "source": [
    "# creating 2d array for above pic\n",
    "arr = np.array([[0,1,2,3,4,5],\n",
    "               [10,11,12,13,14,15],\n",
    "               [20,21,22,23,24,25],\n",
    "               [30,31,32,33,34,35],\n",
    "               [40,41,42,43,44,45],\n",
    "               [50,51,52,53,54,55]])\n",
    "print(arr.ndim)"
   ]
  },
  {
   "cell_type": "code",
   "execution_count": 34,
   "id": "e974bba8-8efe-4dc0-a703-d066e94b8d27",
   "metadata": {},
   "outputs": [
    {
     "data": {
      "text/plain": [
       "array([3, 4])"
      ]
     },
     "execution_count": 34,
     "metadata": {},
     "output_type": "execute_result"
    }
   ],
   "source": [
    "#yellow\n",
    "arr[0,3:5]"
   ]
  },
  {
   "cell_type": "code",
   "execution_count": 35,
   "id": "a22f08ec-940d-4a12-bfa0-dfe7cc8e6daf",
   "metadata": {},
   "outputs": [
    {
     "data": {
      "text/plain": [
       "array([ 2, 12, 22, 32, 42, 52])"
      ]
     },
     "execution_count": 35,
     "metadata": {},
     "output_type": "execute_result"
    }
   ],
   "source": [
    "#red\n",
    "arr[ : ,2]"
   ]
  },
  {
   "cell_type": "code",
   "execution_count": 36,
   "id": "4e12d9dc-0938-4b6a-b1c1-b2828d802efe",
   "metadata": {},
   "outputs": [
    {
     "data": {
      "text/plain": [
       "array([[44, 45],\n",
       "       [54, 55]])"
      ]
     },
     "execution_count": 36,
     "metadata": {},
     "output_type": "execute_result"
    }
   ],
   "source": [
    "#blue\n",
    "arr[-2: , -2: ] # negative index"
   ]
  },
  {
   "cell_type": "code",
   "execution_count": 37,
   "id": "ddac24f7-c330-44d2-a3db-3c25866a491b",
   "metadata": {},
   "outputs": [
    {
     "data": {
      "text/plain": [
       "array([[10, 12, 14],\n",
       "       [30, 32, 34],\n",
       "       [50, 52, 54]])"
      ]
     },
     "execution_count": 37,
     "metadata": {},
     "output_type": "execute_result"
    }
   ],
   "source": [
    "# blue bordered\n",
    "arr[1 : :2, : :2] # arr[start_row:end_row:steps, start_col:end_col:steps]"
   ]
  },
  {
   "attachments": {
    "00a0930e-e8a7-41e7-abe0-ce4661d2002f.png": {
     "image/png": "[encoded data removed]"
    }
   },
   "cell_type": "markdown",
   "id": "0c806ce9-2198-4d30-a361-e3749d179b38",
   "metadata": {},
   "source": [
    "![fancy_slicing.png](attachment:00a0930e-e8a7-41e7-abe0-ce4661d2002f.png)"
   ]
  },
  {
   "cell_type": "code",
   "execution_count": 38,
   "id": "7cb49390-8a4b-4d80-9435-3a058c43df64",
   "metadata": {},
   "outputs": [],
   "source": [
    "# some fancy indexing/slicing"
   ]
  },
  {
   "cell_type": "code",
   "execution_count": 39,
   "id": "3d23f5ff-6bb2-4970-b41a-4f72fdc136a0",
   "metadata": {},
   "outputs": [
    {
     "data": {
      "text/plain": [
       "array([ 1, 12, 23, 34, 45])"
      ]
     },
     "execution_count": 39,
     "metadata": {},
     "output_type": "execute_result"
    }
   ],
   "source": [
    "# yellow\n",
    "arr[[0,1,2,3,4],\n",
    "    [1,2,3,4,5]] \n",
    "\n",
    "# can't use arr[[:5],[1:]]\n",
    "# if one of them is fixed range will work\n",
    "# arr[:4,[1,2,3]]"
   ]
  },
  {
   "cell_type": "code",
   "execution_count": 40,
   "id": "9c8c7773-1d25-430c-9820-270d52dda1fb",
   "metadata": {},
   "outputs": [
    {
     "data": {
      "text/plain": [
       "array([ 2, 22, 52])"
      ]
     },
     "execution_count": 40,
     "metadata": {},
     "output_type": "execute_result"
    }
   ],
   "source": [
    "# red\n",
    "\n",
    "# using mask (boolean indexing)\n",
    "row_mask = np.array([1,0,1,0,0,1],dtype=bool) #creating mask (signal- on,off)\n",
    "arr[row_mask,2]\n",
    "\n",
    "#or (position indexing )\n",
    "# row = [0,2,5] # selecting row\n",
    "# arr[row,2]"
   ]
  },
  {
   "cell_type": "code",
   "execution_count": 41,
   "id": "772e2cd2-502e-4b50-b8db-4837d267ffa0",
   "metadata": {},
   "outputs": [
    {
     "data": {
      "text/plain": [
       "array([[30, 32, 35],\n",
       "       [40, 42, 45],\n",
       "       [50, 52, 55]])"
      ]
     },
     "execution_count": 41,
     "metadata": {},
     "output_type": "execute_result"
    }
   ],
   "source": [
    "# blue bordered\n",
    "arr[3:,[0,2,5]]"
   ]
  },
  {
   "cell_type": "markdown",
   "id": "2ad3a67b-9c2e-4770-9e5b-4d8000e8c1c5",
   "metadata": {},
   "source": [
    "### using mask to perform task\n",
    "here we will replace negative number"
   ]
  },
  {
   "cell_type": "code",
   "execution_count": 42,
   "id": "09f9548b-aaf8-4a11-84a4-e54eab8aac22",
   "metadata": {},
   "outputs": [],
   "source": [
    "a2 = np.array([-3,7,12,4,-3,4])"
   ]
  },
  {
   "cell_type": "code",
   "execution_count": 43,
   "id": "ef822c23-7489-4ad1-b5b0-b2b7604da0c7",
   "metadata": {},
   "outputs": [],
   "source": [
    "negative = a2<0 # collecting negative "
   ]
  },
  {
   "cell_type": "code",
   "execution_count": 44,
   "id": "2eef988d-d868-4cd8-a219-8c4d1df81573",
   "metadata": {},
   "outputs": [
    {
     "data": {
      "text/plain": [
       "array([ True, False, False, False,  True, False])"
      ]
     },
     "execution_count": 44,
     "metadata": {},
     "output_type": "execute_result"
    }
   ],
   "source": [
    "negative"
   ]
  },
  {
   "cell_type": "code",
   "execution_count": 45,
   "id": "b2f4e65d-39d1-41f5-a74f-ee680e7c3273",
   "metadata": {},
   "outputs": [
    {
     "data": {
      "text/plain": [
       "array([-3, -3])"
      ]
     },
     "execution_count": 45,
     "metadata": {},
     "output_type": "execute_result"
    }
   ],
   "source": [
    "a2[negative]"
   ]
  },
  {
   "cell_type": "code",
   "execution_count": 46,
   "id": "880985ca-39b5-407d-91bb-43cfefc1a548",
   "metadata": {},
   "outputs": [],
   "source": [
    "a2[negative] = 0 # reassigning"
   ]
  },
  {
   "cell_type": "code",
   "execution_count": 47,
   "id": "75487498-3b41-41f7-bfb8-469a6bcd6d2e",
   "metadata": {},
   "outputs": [
    {
     "data": {
      "text/plain": [
       "array([ 0,  7, 12,  4,  0,  4])"
      ]
     },
     "execution_count": 47,
     "metadata": {},
     "output_type": "execute_result"
    }
   ],
   "source": [
    "a2"
   ]
  },
  {
   "cell_type": "code",
   "execution_count": null,
   "id": "b7435fa5-8540-4287-9ec9-67b44cd55e6e",
   "metadata": {},
   "outputs": [],
   "source": []
  }
 ],
 "metadata": {
  "kernelspec": {
   "display_name": "Python 3 (ipykernel)",
   "language": "python",
   "name": "python3"
  },
  "language_info": {
   "codemirror_mode": {
    "name": "ipython",
    "version": 3
   },
   "file_extension": ".py",
   "mimetype": "text/x-python",
   "name": "python",
   "nbconvert_exporter": "python",
   "pygments_lexer": "ipython3",
   "version": "3.12.1"
  }
 },
 "nbformat": 4,
 "nbformat_minor": 5
}
