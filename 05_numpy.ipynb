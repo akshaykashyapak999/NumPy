{
 "cells": [
  {
   "cell_type": "markdown",
   "id": "2f529eca-e03d-48d6-b771-70f1404dffbd",
   "metadata": {},
   "source": [
    "<div class=\"alert alert-block alert-info\" style=\"margin-top: 20px\"><h1> NumPy</h1>\n",
    "<code>By AKSHAY KASHYAP</code></div>"
   ]
  },
  {
   "cell_type": "code",
   "execution_count": 1,
   "id": "a0a5319b-8718-4bb2-bfce-6c88ff0a5535",
   "metadata": {},
   "outputs": [],
   "source": [
    "import numpy as np"
   ]
  },
  {
   "cell_type": "code",
   "execution_count": 2,
   "id": "e39769b2-cf4f-4a2d-b238-69d43dd09393",
   "metadata": {},
   "outputs": [
    {
     "data": {
      "text/plain": [
       "'1.26.4'"
      ]
     },
     "execution_count": 2,
     "metadata": {},
     "output_type": "execute_result"
    }
   ],
   "source": [
    "np.__version__"
   ]
  },
  {
   "cell_type": "markdown",
   "id": "36dc8242-b424-4bd3-acf7-5629dd872a83",
   "metadata": {},
   "source": [
    "<hr> <div class=\"alert alert-block alert-danger\" style=\"margin-top: 20px\">\n",
    "    <h3>Random</h3></div><hr>"
   ]
  },
  {
   "cell_type": "markdown",
   "id": "3ed40369-5e3d-4e04-945d-2c3e34ffab59",
   "metadata": {},
   "source": [
    "_________\n",
    "### rand\n",
    "__________\n",
    "Generates random numbers from a uniform distribution over [0, 1)."
   ]
  },
  {
   "cell_type": "code",
   "execution_count": 3,
   "id": "88cf9230-09d3-4a71-9eef-e08dae826609",
   "metadata": {},
   "outputs": [
    {
     "name": "stdout",
     "output_type": "stream",
     "text": [
      "0.37933134515094924\n",
      "[[0.63805235 0.18025859 0.58580086]\n",
      " [0.10458389 0.50919446 0.71525344]]\n"
     ]
    }
   ],
   "source": [
    "# Generate a single random float\n",
    "random_float = np.random.rand()\n",
    "print(random_float)\n",
    "\n",
    "# Generate a 2x3 array of random floats\n",
    "random_array = np.random.rand(2, 3)\n",
    "print(random_array)"
   ]
  },
  {
   "cell_type": "markdown",
   "id": "ef07d076-026c-44b6-a6eb-f6ff5031479b",
   "metadata": {},
   "source": [
    "______\n",
    "### randn\n",
    "______\n",
    "Generates random numbers from a standard normal distribution (mean = 0, standard deviation = 1)."
   ]
  },
  {
   "cell_type": "code",
   "execution_count": 4,
   "id": "83bec49a-042a-4f0a-8b1a-fda7baaaa8bc",
   "metadata": {},
   "outputs": [
    {
     "name": "stdout",
     "output_type": "stream",
     "text": [
      "0.12004775685083968\n",
      "[[-0.48111859 -0.41708228  0.75108247]\n",
      " [-0.21242552 -0.82030027  0.64890583]]\n"
     ]
    }
   ],
   "source": [
    "# Generate a single random number from a standard normal distribution\n",
    "random_number = np.random.randn()\n",
    "print(random_number)\n",
    "\n",
    "# Generate a 2x3 array of random numbers from a standard normal distribution\n",
    "random_array = np.random.randn(2, 3)\n",
    "print(random_array)"
   ]
  },
  {
   "cell_type": "markdown",
   "id": "30b16f59-d818-4787-8faa-263b319ee6d1",
   "metadata": {},
   "source": [
    "_________\n",
    "### randint\n",
    "______\n",
    "Generates random integers within a specified range."
   ]
  },
  {
   "cell_type": "code",
   "execution_count": 5,
   "id": "80406dee-70ce-4ab5-b6e7-250b9cbf546c",
   "metadata": {},
   "outputs": [
    {
     "name": "stdout",
     "output_type": "stream",
     "text": [
      "6\n",
      "[[18 45 41]\n",
      " [48 25  1]]\n"
     ]
    }
   ],
   "source": [
    "# Generate a single random integer between 0 (inclusive) and 10 (exclusive)\n",
    "random_integer = np.random.randint(0, 10)\n",
    "print(random_integer)\n",
    "\n",
    "# Generate a 2x3 array of random integers between 0 and 50 (exclusive)\n",
    "random_array = np.random.randint(0, 50, size=(2, 3))\n",
    "print(random_array)"
   ]
  },
  {
   "cell_type": "markdown",
   "id": "26c7d4ea-e8c3-4fe5-b2f6-02217b72e983",
   "metadata": {},
   "source": [
    "________\n",
    "### uniform\n",
    "_____\n",
    "Generates random numbers from a uniform distribution over [low, high)."
   ]
  },
  {
   "cell_type": "code",
   "execution_count": 6,
   "id": "de81da63-697e-443f-a747-ad03de9ee193",
   "metadata": {},
   "outputs": [
    {
     "name": "stdout",
     "output_type": "stream",
     "text": [
      "5.607181237260918\n",
      "[[5.69842999 2.15001212 1.51726729]\n",
      " [4.939598   8.38485497 6.65930334]]\n"
     ]
    }
   ],
   "source": [
    "# Generate a single random float between 1 and 10\n",
    "random_float = np.random.uniform(1, 10)\n",
    "print(random_float)\n",
    "\n",
    "# Generate a 2x3 array of random floats between 1 and 10\n",
    "random_array = np.random.uniform(1, 10, size=(2, 3))\n",
    "print(random_array)"
   ]
  },
  {
   "cell_type": "markdown",
   "id": "195585b8-b4b3-4824-a82f-f423f1c12e08",
   "metadata": {},
   "source": [
    "________\n",
    "### normal\n",
    "_______\n",
    "Generates random numbers from a normal distribution with a specified mean and standard deviation."
   ]
  },
  {
   "cell_type": "code",
   "execution_count": 7,
   "id": "fb3219b4-383b-42b1-aa46-6e41a2f1052c",
   "metadata": {},
   "outputs": [
    {
     "name": "stdout",
     "output_type": "stream",
     "text": [
      "-0.1449251030363972\n",
      "[[1.66000734 2.92422924 1.87411706]\n",
      " [6.51932584 7.72785747 5.01971513]]\n"
     ]
    }
   ],
   "source": [
    "# Generate a single random number from a normal distribution with mean 0 and standard deviation 1\n",
    "random_number = np.random.normal(loc=0, scale=1)\n",
    "print(random_number)\n",
    "\n",
    "# Generate a 2x3 array of random numbers from a normal distribution with mean 5 and standard deviation 2\n",
    "random_array = np.random.normal(loc=5, scale=2, size=(2, 3))\n",
    "print(random_array)"
   ]
  },
  {
   "cell_type": "markdown",
   "id": "43f6adca-9498-4428-9259-556ef8a878ab",
   "metadata": {},
   "source": [
    "__________\n",
    "### binomial\n",
    "________\n",
    "Generates random numbers from a binomial distribution."
   ]
  },
  {
   "cell_type": "code",
   "execution_count": 8,
   "id": "3375be43-1f98-4be5-a6f2-77676681a18b",
   "metadata": {},
   "outputs": [
    {
     "name": "stdout",
     "output_type": "stream",
     "text": [
      "8\n",
      "[[6 6 5]\n",
      " [5 8 8]]\n"
     ]
    }
   ],
   "source": [
    "# Generate a single random number from a binomial distribution with 10 trials and probability 0.5\n",
    "random_number = np.random.binomial(n=10, p=0.5)\n",
    "print(random_number)\n",
    "\n",
    "# Generate a 2x3 array of random numbers from a binomial distribution with 10 trials and probability 0.5\n",
    "random_array = np.random.binomial(n=10, p=0.5, size=(2, 3))\n",
    "print(random_array)"
   ]
  },
  {
   "cell_type": "markdown",
   "id": "f2437f1c-6f8f-4cc9-8848-f7afaa912751",
   "metadata": {},
   "source": [
    "___________\n",
    "### poisson\n",
    "_______\n",
    "Generates random numbers from a Poisson distribution."
   ]
  },
  {
   "cell_type": "code",
   "execution_count": 9,
   "id": "6e4e490a-b8c4-46cb-9525-2882c3e03b8b",
   "metadata": {},
   "outputs": [
    {
     "name": "stdout",
     "output_type": "stream",
     "text": [
      "2\n",
      "[[2 5 1]\n",
      " [1 4 3]]\n"
     ]
    }
   ],
   "source": [
    "# Generate a single random number from a Poisson distribution with lambda (rate) 3\n",
    "random_number = np.random.poisson(lam=3)\n",
    "print(random_number)\n",
    "\n",
    "# Generate a 2x3 array of random numbers from a Poisson distribution with lambda (rate) 3\n",
    "random_array = np.random.poisson(lam=3, size=(2, 3))\n",
    "print(random_array)"
   ]
  },
  {
   "cell_type": "markdown",
   "id": "8569bd99-0cd8-43f8-bcf0-fa43438e0a5a",
   "metadata": {},
   "source": [
    "_________\n",
    "### choice\n",
    "________\n",
    "Generates random samples from a given 1-D array."
   ]
  },
  {
   "cell_type": "code",
   "execution_count": 10,
   "id": "b6196c9d-e89f-43e2-b333-51025d47385f",
   "metadata": {},
   "outputs": [
    {
     "name": "stdout",
     "output_type": "stream",
     "text": [
      "1\n",
      "[2 3 3]\n",
      "[4 5 3]\n"
     ]
    }
   ],
   "source": [
    "# Randomly choose a single element from the array\n",
    "random_choice = np.random.choice([1, 2, 3, 4, 5])\n",
    "print(random_choice)\n",
    "\n",
    "# Randomly choose 3 elements from the array with replacement\n",
    "random_choices = np.random.choice([1, 2, 3, 4, 5], size=3, replace=True)\n",
    "print(random_choices)\n",
    "\n",
    "# Randomly choose 3 elements from the array without replacement\n",
    "random_choices = np.random.choice([1, 2, 3, 4, 5], size=3, replace=False)\n",
    "print(random_choices)"
   ]
  },
  {
   "cell_type": "markdown",
   "id": "304a87f3-7082-4343-aac2-ebaec7b8c2c5",
   "metadata": {},
   "source": [
    "_______\n",
    "### shuffle\n",
    "________\n",
    "Randomly permutes a sequence or array in place."
   ]
  },
  {
   "cell_type": "code",
   "execution_count": 11,
   "id": "8d34c4d8-68dd-4da8-ae01-9cc3b4e2580f",
   "metadata": {},
   "outputs": [
    {
     "name": "stdout",
     "output_type": "stream",
     "text": [
      "[3 4 2 1 5]\n",
      "[[1 2 3]\n",
      " [4 5 6]]\n"
     ]
    }
   ],
   "source": [
    "# Shuffle a 1-D array\n",
    "array = np.array([1, 2, 3, 4, 5])\n",
    "np.random.shuffle(array)\n",
    "print(array)\n",
    "\n",
    "# Shuffle each row of a 2-D array independently\n",
    "array_2d = np.array([[1, 2, 3], [4, 5, 6]])\n",
    "np.random.shuffle(array_2d)\n",
    "print(array_2d)"
   ]
  },
  {
   "cell_type": "code",
   "execution_count": null,
   "id": "9e660bc1-9ad6-446a-b893-4bd78623c18f",
   "metadata": {},
   "outputs": [],
   "source": []
  }
 ],
 "metadata": {
  "kernelspec": {
   "display_name": "Python 3 (ipykernel)",
   "language": "python",
   "name": "python3"
  },
  "language_info": {
   "codemirror_mode": {
    "name": "ipython",
    "version": 3
   },
   "file_extension": ".py",
   "mimetype": "text/x-python",
   "name": "python",
   "nbconvert_exporter": "python",
   "pygments_lexer": "ipython3",
   "version": "3.12.1"
  }
 },
 "nbformat": 4,
 "nbformat_minor": 5
}
