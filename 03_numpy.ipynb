{
 "cells": [
  {
   "cell_type": "markdown",
   "id": "171ee736-954e-4ca9-b57e-609f2d3103dd",
   "metadata": {},
   "source": [
    "<div class=\"alert alert-block alert-info\" style=\"margin-top: 20px\"><h1> NumPy</h1>\n",
    "<code>By AKSHAY KASHYAP</code></div>"
   ]
  },
  {
   "cell_type": "code",
   "execution_count": 1,
   "id": "7308ba10-6f38-4523-ab39-ac76d2291fbf",
   "metadata": {},
   "outputs": [],
   "source": [
    "import numpy as np"
   ]
  },
  {
   "cell_type": "code",
   "execution_count": 2,
   "id": "f3b038be-3a57-4f49-8d90-57e6130e10d9",
   "metadata": {},
   "outputs": [
    {
     "data": {
      "text/plain": [
       "'1.26.4'"
      ]
     },
     "execution_count": 2,
     "metadata": {},
     "output_type": "execute_result"
    }
   ],
   "source": [
    "np.__version__"
   ]
  },
  {
   "cell_type": "markdown",
   "id": "0263e733-f4d6-4caf-8680-8670efa394b4",
   "metadata": {},
   "source": [
    "<hr><div><code>NOTE:</code><br>\n",
    "There are many func - sum, prod, min, max so on<br>\n",
    "here we will only see sum to clear our concept of axis and how it works\n",
    "</div> <hr>"
   ]
  },
  {
   "attachments": {
    "73e6ca65-90b1-4792-885e-197252f99845.png": {
     "image/png": "[encoded data removed]"
    }
   },
   "cell_type": "markdown",
   "id": "655b23d8-ed68-47da-8267-dd95edf9c9d7",
   "metadata": {},
   "source": [
    "![2d.png](attachment:73e6ca65-90b1-4792-885e-197252f99845.png)"
   ]
  },
  {
   "cell_type": "code",
   "execution_count": 3,
   "id": "951d24c6-25e1-4bc1-a1b3-cfedcf498b91",
   "metadata": {},
   "outputs": [],
   "source": [
    "a = np.array([[1,2,3,4],\n",
    "              [11,21,31,41]])"
   ]
  },
  {
   "cell_type": "code",
   "execution_count": 4,
   "id": "842682f8-48b3-4383-b2c2-12dcaa72c2d6",
   "metadata": {},
   "outputs": [
    {
     "data": {
      "text/plain": [
       "array([[ 1,  2,  3,  4],\n",
       "       [11, 21, 31, 41]])"
      ]
     },
     "execution_count": 4,
     "metadata": {},
     "output_type": "execute_result"
    }
   ],
   "source": [
    "a"
   ]
  },
  {
   "cell_type": "markdown",
   "id": "aa137016-3ef7-434b-88b2-7fcfd0d0a4fd",
   "metadata": {},
   "source": [
    "<hr><div><h3>axis</h3>\n",
    "    <ul>\n",
    "        <li>col = -1 (1d)</li>\n",
    "        <li>row = -2 (2d) </li>\n",
    "        <li>plane = -3 (3d)</li>\n",
    "        <li>3d object = -4 (4d)</li>\n",
    "    </ul>\n",
    "in <code>positive axis representation</code> it will keep <code>changing</code> for different dimension, like different in 1d, different in 2d, so on \n",
    "</div><hr>"
   ]
  },
  {
   "cell_type": "code",
   "execution_count": 5,
   "id": "56fabd75-994d-4152-82a7-5593ce04af2a",
   "metadata": {},
   "outputs": [
    {
     "data": {
      "text/plain": [
       "array([12, 23, 34, 45])"
      ]
     },
     "execution_count": 5,
     "metadata": {},
     "output_type": "execute_result"
    }
   ],
   "source": [
    "a.sum(axis = -2) # adding row "
   ]
  },
  {
   "cell_type": "markdown",
   "id": "6554edd6-2fd7-4ecc-8e58-efe4cdb2fa39",
   "metadata": {},
   "source": [
    "<div class=\"alert alert-block alert-info\" style=\"margin-top: 20px\">\n",
    "<h3>Let's try in 3D</h3></div>"
   ]
  },
  {
   "cell_type": "code",
   "execution_count": 6,
   "id": "638670a3-7a52-4d7d-8351-7f50284800f7",
   "metadata": {},
   "outputs": [],
   "source": [
    "b = np.arange(24).reshape(3,2,4)  # reshape(4d, plane, row, col)"
   ]
  },
  {
   "cell_type": "code",
   "execution_count": 7,
   "id": "ae61e168-cfe9-440a-ba56-bd506f0eb0c1",
   "metadata": {},
   "outputs": [
    {
     "data": {
      "text/plain": [
       "(3, 2, 4)"
      ]
     },
     "execution_count": 7,
     "metadata": {},
     "output_type": "execute_result"
    }
   ],
   "source": [
    "b.shape"
   ]
  },
  {
   "attachments": {
    "c5d11f44-1fc9-4f04-8307-9a716ee64ebe.png": {
     "image/png": "[encoded data removed]"
    }
   },
   "cell_type": "markdown",
   "id": "77312d4d-53bd-4b09-b58c-e2cc9b717f8c",
   "metadata": {},
   "source": [
    "![3d.png](attachment:c5d11f44-1fc9-4f04-8307-9a716ee64ebe.png)"
   ]
  },
  {
   "cell_type": "code",
   "execution_count": 8,
   "id": "5b38358a-63cb-4997-b194-76d9048d1d43",
   "metadata": {},
   "outputs": [
    {
     "data": {
      "text/plain": [
       "array([[[ 0,  1,  2,  3],\n",
       "        [ 4,  5,  6,  7]],\n",
       "\n",
       "       [[ 8,  9, 10, 11],\n",
       "        [12, 13, 14, 15]],\n",
       "\n",
       "       [[16, 17, 18, 19],\n",
       "        [20, 21, 22, 23]]])"
      ]
     },
     "execution_count": 8,
     "metadata": {},
     "output_type": "execute_result"
    }
   ],
   "source": [
    "b"
   ]
  },
  {
   "cell_type": "code",
   "execution_count": 9,
   "id": "2383cc34-e220-4563-9ae6-6e9cc27ce29a",
   "metadata": {},
   "outputs": [
    {
     "data": {
      "text/plain": [
       "array([[24, 27, 30, 33],\n",
       "       [36, 39, 42, 45]])"
      ]
     },
     "execution_count": 9,
     "metadata": {},
     "output_type": "execute_result"
    }
   ],
   "source": [
    "# adding plane/table\n",
    "b.sum(axis = 0) "
   ]
  },
  {
   "cell_type": "code",
   "execution_count": 10,
   "id": "d9be8f2a-88d6-4ab0-a893-765a56869c3e",
   "metadata": {},
   "outputs": [
    {
     "data": {
      "text/plain": [
       "array([[ 4,  6,  8, 10],\n",
       "       [20, 22, 24, 26],\n",
       "       [36, 38, 40, 42]])"
      ]
     },
     "execution_count": 10,
     "metadata": {},
     "output_type": "execute_result"
    }
   ],
   "source": [
    "# adding row\n",
    "b.sum(axis = 1)"
   ]
  },
  {
   "cell_type": "markdown",
   "id": "f6e89edb-df5f-4290-b7ec-c4b9bd75c928",
   "metadata": {},
   "source": [
    "why result in 2d, <hr>\n",
    "because it added row according to different plane/table <br>\n",
    "if we had shape => (5,3,4) , output were 5 diffrent row belonging to respective plane"
   ]
  },
  {
   "cell_type": "code",
   "execution_count": 11,
   "id": "f854532d-bbcb-4719-9734-c75f063567fc",
   "metadata": {},
   "outputs": [
    {
     "data": {
      "text/plain": [
       "array([[ 6, 22],\n",
       "       [38, 54],\n",
       "       [70, 86]])"
      ]
     },
     "execution_count": 11,
     "metadata": {},
     "output_type": "execute_result"
    }
   ],
   "source": [
    "# adding col\n",
    "b.sum(axis = 2)"
   ]
  },
  {
   "cell_type": "markdown",
   "id": "f302de13-aec6-486e-89e6-5b8ad065c183",
   "metadata": {},
   "source": [
    "its look like row but its different count no in each array <hr>\n",
    "yeah its 2 (we had 2 rows), which tells us added all the column belong to respective row <br> \n",
    "3 array because of 3 planes/ table"
   ]
  },
  {
   "cell_type": "markdown",
   "id": "5a28ddf2-016f-469b-9ca3-1ea6df7f73e1",
   "metadata": {},
   "source": [
    "<hr>\n",
    "<div class=\"alert alert-block alert-success\" style=\"margin-top: 20px\">\n",
    "<h3>Let's try in 4D</h3></div>"
   ]
  },
  {
   "cell_type": "code",
   "execution_count": 12,
   "id": "4771c5f9-3801-44cd-b971-d211620f92e9",
   "metadata": {},
   "outputs": [],
   "source": [
    "a3 = np.arange(48).reshape(2,3,2,4)"
   ]
  },
  {
   "cell_type": "code",
   "execution_count": 13,
   "id": "3953e447-4b7a-4cf5-b86c-012d7b7213f0",
   "metadata": {},
   "outputs": [
    {
     "name": "stdout",
     "output_type": "stream",
     "text": [
      "(2, 3, 2, 4)\n",
      "4\n"
     ]
    }
   ],
   "source": [
    "print(a3.shape)\n",
    "print(a3.ndim)"
   ]
  },
  {
   "attachments": {
    "73e80c46-54e3-4fcd-9a43-16db4d4fe5bc.png": {
     "image/png": "[encoded data removed]"
    }
   },
   "cell_type": "markdown",
   "id": "bbcbf0dc-82f4-4cc9-9f54-91a1a245ce27",
   "metadata": {},
   "source": [
    "![4d.png](attachment:73e80c46-54e3-4fcd-9a43-16db4d4fe5bc.png)"
   ]
  },
  {
   "cell_type": "code",
   "execution_count": 14,
   "id": "f1dfee70-5462-4189-86f5-a25c2dc71302",
   "metadata": {},
   "outputs": [
    {
     "data": {
      "text/plain": [
       "array([[[[ 0,  1,  2,  3],\n",
       "         [ 4,  5,  6,  7]],\n",
       "\n",
       "        [[ 8,  9, 10, 11],\n",
       "         [12, 13, 14, 15]],\n",
       "\n",
       "        [[16, 17, 18, 19],\n",
       "         [20, 21, 22, 23]]],\n",
       "\n",
       "\n",
       "       [[[24, 25, 26, 27],\n",
       "         [28, 29, 30, 31]],\n",
       "\n",
       "        [[32, 33, 34, 35],\n",
       "         [36, 37, 38, 39]],\n",
       "\n",
       "        [[40, 41, 42, 43],\n",
       "         [44, 45, 46, 47]]]])"
      ]
     },
     "execution_count": 14,
     "metadata": {},
     "output_type": "execute_result"
    }
   ],
   "source": [
    "a3 "
   ]
  },
  {
   "cell_type": "code",
   "execution_count": 15,
   "id": "28a55f51-e256-4560-9347-2b2ececd6532",
   "metadata": {},
   "outputs": [
    {
     "data": {
      "text/plain": [
       "array([[[24, 26, 28, 30],\n",
       "        [32, 34, 36, 38]],\n",
       "\n",
       "       [[40, 42, 44, 46],\n",
       "        [48, 50, 52, 54]],\n",
       "\n",
       "       [[56, 58, 60, 62],\n",
       "        [64, 66, 68, 70]]])"
      ]
     },
     "execution_count": 15,
     "metadata": {},
     "output_type": "execute_result"
    }
   ],
   "source": [
    "# adding 3d object\n",
    "a3.sum(axis = 0)  #hard to understand output"
   ]
  },
  {
   "cell_type": "markdown",
   "id": "89394f68-b2b0-4331-b264-ab571a707ca5",
   "metadata": {},
   "source": [
    "<hr>\n",
    "<div class=\"alert alert-block alert-info\" style=\"margin-top: 20px; color: black\">\n",
    "    shape => (2,3,2,4) : <br>\n",
    "(\"3d_object in 4d\" , \"plane in each 3d_object\" , \"row in each plane\" , \"col in each row\") <hr>\n",
    "we have '2' 3d_object both are added it will form 3d shape after adding <hr>\n",
    "<li>3 planes (3 different double [[]] brackets )</li>\n",
    "<li>2 rows (2 rows in each plane )</li>\n",
    "<li>4 cols (4 cols in each row )</li>\n",
    "</div><hr>"
   ]
  },
  {
   "cell_type": "code",
   "execution_count": 16,
   "id": "7dbbf79c-a974-4547-820c-399d05652b48",
   "metadata": {},
   "outputs": [
    {
     "data": {
      "text/plain": [
       "array([[[ 24,  27,  30,  33],\n",
       "        [ 36,  39,  42,  45]],\n",
       "\n",
       "       [[ 96,  99, 102, 105],\n",
       "        [108, 111, 114, 117]]])"
      ]
     },
     "execution_count": 16,
     "metadata": {},
     "output_type": "execute_result"
    }
   ],
   "source": [
    "# adding plane/table\n",
    "a3.sum(axis = 1)"
   ]
  },
  {
   "cell_type": "markdown",
   "id": "88ad4de8-cfff-41d5-9cc4-d58da08f8fc4",
   "metadata": {},
   "source": [
    "<hr>2 diffrent block represent , 2 3d_object <br>\n",
    "adding all planes of 3d_object separately <br> \n",
    "each plane have 2 rows and 4 columns  we can see clearly<hr> \n"
   ]
  },
  {
   "cell_type": "code",
   "execution_count": 17,
   "id": "592edbc5-2049-4236-a0a6-d8c96158f340",
   "metadata": {},
   "outputs": [
    {
     "data": {
      "text/plain": [
       "array([[[[ 0,  1,  2,  3],\n",
       "         [ 4,  5,  6,  7]],\n",
       "\n",
       "        [[ 8,  9, 10, 11],\n",
       "         [12, 13, 14, 15]],\n",
       "\n",
       "        [[16, 17, 18, 19],\n",
       "         [20, 21, 22, 23]]],\n",
       "\n",
       "\n",
       "       [[[24, 25, 26, 27],\n",
       "         [28, 29, 30, 31]],\n",
       "\n",
       "        [[32, 33, 34, 35],\n",
       "         [36, 37, 38, 39]],\n",
       "\n",
       "        [[40, 41, 42, 43],\n",
       "         [44, 45, 46, 47]]]])"
      ]
     },
     "execution_count": 17,
     "metadata": {},
     "output_type": "execute_result"
    }
   ],
   "source": [
    "a3"
   ]
  },
  {
   "cell_type": "code",
   "execution_count": 18,
   "id": "1b7772d5-7b15-453d-8aae-2e6f994bcfdf",
   "metadata": {},
   "outputs": [
    {
     "data": {
      "text/plain": [
       "array([[[ 4,  6,  8, 10],\n",
       "        [20, 22, 24, 26],\n",
       "        [36, 38, 40, 42]],\n",
       "\n",
       "       [[52, 54, 56, 58],\n",
       "        [68, 70, 72, 74],\n",
       "        [84, 86, 88, 90]]])"
      ]
     },
     "execution_count": 18,
     "metadata": {},
     "output_type": "execute_result"
    }
   ],
   "source": [
    "# adding row\n",
    "a3.sum(axis = 2)"
   ]
  },
  {
   "cell_type": "markdown",
   "id": "d50094a2-5515-4d39-a93b-56f1ce5dae84",
   "metadata": {},
   "source": [
    "<hr>shape => (2,3,2,4) <hr>\n",
    "* 2 block , 2 3d_objects <br>\n",
    "* 3 array , 3 planes <br>\n",
    "* 4 col in each row ,  are the column of each plane <hr>"
   ]
  },
  {
   "cell_type": "code",
   "execution_count": 19,
   "id": "8112e051-3986-45b7-9c88-e8aa6b74aac9",
   "metadata": {},
   "outputs": [
    {
     "data": {
      "text/plain": [
       "array([[[  6,  22],\n",
       "        [ 38,  54],\n",
       "        [ 70,  86]],\n",
       "\n",
       "       [[102, 118],\n",
       "        [134, 150],\n",
       "        [166, 182]]])"
      ]
     },
     "execution_count": 19,
     "metadata": {},
     "output_type": "execute_result"
    }
   ],
   "source": [
    "# adding col\n",
    "a3.sum(axis = 3)"
   ]
  },
  {
   "cell_type": "markdown",
   "id": "88ed6a09-92dc-4ca8-aac4-0b6ade801db4",
   "metadata": {},
   "source": [
    "<hr>shape => (2,3,2,4) <hr>\n",
    "* 2 block , 2 3d_objects <br>\n",
    "* 3 array , 3 planes <br>\n",
    "* 2 in each array , 2 row in each plane <hr>"
   ]
  },
  {
   "cell_type": "code",
   "execution_count": null,
   "id": "770a8a1a-b986-4d23-816c-b4abad76f3f6",
   "metadata": {},
   "outputs": [],
   "source": []
  }
 ],
 "metadata": {
  "kernelspec": {
   "display_name": "Python 3 (ipykernel)",
   "language": "python",
   "name": "python3"
  },
  "language_info": {
   "codemirror_mode": {
    "name": "ipython",
    "version": 3
   },
   "file_extension": ".py",
   "mimetype": "text/x-python",
   "name": "python",
   "nbconvert_exporter": "python",
   "pygments_lexer": "ipython3",
   "version": "3.12.1"
  }
 },
 "nbformat": 4,
 "nbformat_minor": 5
}
