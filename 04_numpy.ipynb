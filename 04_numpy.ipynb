{
 "cells": [
  {
   "cell_type": "markdown",
   "id": "f47597da-bd06-4d7a-bbb0-edf881ba8841",
   "metadata": {},
   "source": [
    "<div class=\"alert alert-block alert-info\" style=\"margin-top: 20px\"><h1> NumPy</h1>\n",
    "<code>By AKSHAY KASHYAP</code></div>"
   ]
  },
  {
   "cell_type": "code",
   "execution_count": 1,
   "id": "c4becd75-5bf2-4e61-affa-4c407074ae07",
   "metadata": {},
   "outputs": [],
   "source": [
    "import numpy as np"
   ]
  },
  {
   "cell_type": "code",
   "execution_count": 2,
   "id": "90d742ae-964f-452c-877d-99b89d3b81cc",
   "metadata": {},
   "outputs": [
    {
     "data": {
      "text/plain": [
       "'1.26.4'"
      ]
     },
     "execution_count": 2,
     "metadata": {},
     "output_type": "execute_result"
    }
   ],
   "source": [
    "np.__version__"
   ]
  },
  {
   "cell_type": "code",
   "execution_count": 3,
   "id": "3c8d3305-bdf1-49dd-b26e-df731708593a",
   "metadata": {},
   "outputs": [],
   "source": [
    "data= np.loadtxt('numpy_data/wind.data')"
   ]
  },
  {
   "cell_type": "code",
   "execution_count": 4,
   "id": "59fdcd19-5a74-49ce-96bb-44c40ce43e3e",
   "metadata": {},
   "outputs": [
    {
     "data": {
      "text/plain": [
       "(6574, 15)"
      ]
     },
     "execution_count": 4,
     "metadata": {},
     "output_type": "execute_result"
    }
   ],
   "source": [
    "data.shape"
   ]
  },
  {
   "cell_type": "code",
   "execution_count": 5,
   "id": "f692d604-dabe-4c58-a0fa-00ca52200341",
   "metadata": {
    "scrolled": true
   },
   "outputs": [
    {
     "data": {
      "text/plain": [
       "array([[61.  ,  1.  ,  1.  , ..., 12.58, 18.5 , 15.04],\n",
       "       [61.  ,  1.  ,  2.  , ...,  9.67, 17.54, 13.83],\n",
       "       [61.  ,  1.  ,  3.  , ...,  7.67, 12.75, 12.71],\n",
       "       ...,\n",
       "       [78.  , 12.  , 29.  , ..., 16.42, 18.88, 29.58],\n",
       "       [78.  , 12.  , 30.  , ..., 12.12, 14.67, 28.79],\n",
       "       [78.  , 12.  , 31.  , ..., 11.38, 12.08, 22.08]])"
      ]
     },
     "execution_count": 5,
     "metadata": {},
     "output_type": "execute_result"
    }
   ],
   "source": [
    "data"
   ]
  },
  {
   "cell_type": "markdown",
   "id": "e3c529e3-72f9-4c94-a888-3af37e43b685",
   "metadata": {},
   "source": [
    "<div class=\"alert alert-success alert-danger\" style=\"margin-top: 20px\">\n",
    "    The first three columns are year, month and day.<br>\n",
    "The remaining 12 columns are average windspeeds in knots<br> \n",
    "at 12 locations in Ireland on that day.</div>\n"
   ]
  },
  {
   "cell_type": "markdown",
   "id": "42872321-4787-47a4-87f8-970b4763734d",
   "metadata": {},
   "source": [
    "<hr> <div class=\"alert alert-block alert-info\" style=\"margin-top: 20px\">\n",
    "    1)Let's separarte date and speed</div><hr>"
   ]
  },
  {
   "cell_type": "code",
   "execution_count": 6,
   "id": "fbae53a1-22f8-4146-9cb7-cb9d760b0232",
   "metadata": {},
   "outputs": [],
   "source": [
    "date = data[:,:3] # selecting all rows, 3 columns\n",
    "speed = data[:,3:] # selecting all rows, except 3 columns"
   ]
  },
  {
   "cell_type": "code",
   "execution_count": 7,
   "id": "127e5fc5-cef1-4258-9531-0689e9fc7da3",
   "metadata": {},
   "outputs": [
    {
     "data": {
      "text/plain": [
       "array([[61.,  1.,  1.],\n",
       "       [61.,  1.,  2.],\n",
       "       [61.,  1.,  3.],\n",
       "       [61.,  1.,  4.],\n",
       "       [61.,  1.,  5.]])"
      ]
     },
     "execution_count": 7,
     "metadata": {},
     "output_type": "execute_result"
    }
   ],
   "source": [
    "date[:5]"
   ]
  },
  {
   "cell_type": "code",
   "execution_count": 8,
   "id": "f0b52e5f-f62d-419c-8187-045560d339a1",
   "metadata": {},
   "outputs": [
    {
     "data": {
      "text/plain": [
       "array([[15.04, 14.96, 13.17,  9.29, 13.96,  9.87, 13.67, 10.25, 10.83,\n",
       "        12.58, 18.5 , 15.04],\n",
       "       [14.71, 16.88, 10.83,  6.5 , 12.62,  7.67, 11.5 , 10.04,  9.79,\n",
       "         9.67, 17.54, 13.83],\n",
       "       [18.5 , 16.88, 12.33, 10.13, 11.17,  6.17, 11.25,  8.04,  8.5 ,\n",
       "         7.67, 12.75, 12.71]])"
      ]
     },
     "execution_count": 8,
     "metadata": {},
     "output_type": "execute_result"
    }
   ],
   "source": [
    "speed[:3]"
   ]
  },
  {
   "cell_type": "markdown",
   "id": "838a258c-4781-495e-9133-9599682a6b8e",
   "metadata": {},
   "source": [
    "<hr><div class=\"alert alert-block alert-info\" style=\"margin-top: 20px\">\n",
    "2) Calculate the min, max and mean windspeeds and standard deviation of the <br>\n",
    "windspeeds over all the locations and all the times (a single set of numbers <br>\n",
    "for the entire dataset).</div><hr>"
   ]
  },
  {
   "cell_type": "code",
   "execution_count": 9,
   "id": "2a28dfd7-f204-4940-9cb1-0a2278cb1577",
   "metadata": {},
   "outputs": [
    {
     "data": {
      "text/plain": [
       "0.0"
      ]
     },
     "execution_count": 9,
     "metadata": {},
     "output_type": "execute_result"
    }
   ],
   "source": [
    "speed.min()"
   ]
  },
  {
   "cell_type": "code",
   "execution_count": 10,
   "id": "fe8eff96-c605-4083-a633-5c9aa8bb71f8",
   "metadata": {},
   "outputs": [
    {
     "data": {
      "text/plain": [
       "42.54"
      ]
     },
     "execution_count": 10,
     "metadata": {},
     "output_type": "execute_result"
    }
   ],
   "source": [
    "speed.max()"
   ]
  },
  {
   "cell_type": "code",
   "execution_count": 11,
   "id": "b23a0996-5fa6-4d27-abbf-1d6f799ee145",
   "metadata": {},
   "outputs": [
    {
     "data": {
      "text/plain": [
       "10.22837377040868"
      ]
     },
     "execution_count": 11,
     "metadata": {},
     "output_type": "execute_result"
    }
   ],
   "source": [
    "speed.mean()"
   ]
  },
  {
   "cell_type": "code",
   "execution_count": 12,
   "id": "cb2f2a5d-3095-4e3f-894a-e64e8be1d088",
   "metadata": {},
   "outputs": [
    {
     "data": {
      "text/plain": [
       "5.603840181095793"
      ]
     },
     "execution_count": 12,
     "metadata": {},
     "output_type": "execute_result"
    }
   ],
   "source": [
    "speed.std()"
   ]
  },
  {
   "cell_type": "markdown",
   "id": "3c380f66-5f2c-435e-a3a9-1e7e063f8a4f",
   "metadata": {},
   "source": [
    "<hr><div class=\"alert alert-block alert-info\" style=\"margin-top: 20px\">\n",
    "    3) Calculate the min, max and mean windspeeds and standard deviations of the<br>\n",
    "windspeeds at each location over all the days (a different set of numbers<br>\n",
    "for each location)</div><hr>"
   ]
  },
  {
   "cell_type": "code",
   "execution_count": 13,
   "id": "cdad9880-91e0-4659-9974-8dda449d3a7c",
   "metadata": {},
   "outputs": [
    {
     "data": {
      "text/plain": [
       "array([0.67, 0.21, 1.5 , 0.  , 0.13, 0.  , 0.  , 0.  , 0.  , 0.04, 0.13,\n",
       "       0.67])"
      ]
     },
     "execution_count": 13,
     "metadata": {},
     "output_type": "execute_result"
    }
   ],
   "source": [
    "speed.min(axis = -2) # row , also axis = 0"
   ]
  },
  {
   "cell_type": "code",
   "execution_count": 14,
   "id": "5ca46f0c-aa57-493f-9e48-923a601c39c3",
   "metadata": {},
   "outputs": [
    {
     "data": {
      "text/plain": [
       "array([35.8 , 33.37, 33.84, 28.46, 37.54, 26.16, 30.37, 31.08, 25.88,\n",
       "       28.21, 42.38, 42.54])"
      ]
     },
     "execution_count": 14,
     "metadata": {},
     "output_type": "execute_result"
    }
   ],
   "source": [
    "speed.max(axis = 0) # row , also axis = -2"
   ]
  },
  {
   "cell_type": "code",
   "execution_count": 15,
   "id": "46b2bc3b-e092-4eb4-91f2-30d292d589cf",
   "metadata": {},
   "outputs": [
    {
     "data": {
      "text/plain": [
       "array([12.36371463, 10.64644813, 11.66010344,  6.30627472, 10.45688013,\n",
       "        7.09225434,  9.7968345 ,  8.49442044,  8.49581838,  8.70726803,\n",
       "       13.121007  , 15.59946152])"
      ]
     },
     "execution_count": 15,
     "metadata": {},
     "output_type": "execute_result"
    }
   ],
   "source": [
    "speed.mean(axis = 0)"
   ]
  },
  {
   "cell_type": "code",
   "execution_count": 16,
   "id": "d0872378-cf93-4d79-9d9c-18b16a9e3e0b",
   "metadata": {},
   "outputs": [
    {
     "data": {
      "text/plain": [
       "array([5.61918301, 5.26820081, 5.00738377, 3.60513309, 4.93536333,\n",
       "       3.96838126, 4.97689374, 4.49865783, 4.16746101, 4.50327222,\n",
       "       5.83459319, 6.69734719])"
      ]
     },
     "execution_count": 16,
     "metadata": {},
     "output_type": "execute_result"
    }
   ],
   "source": [
    "speed.std(axis = 0)"
   ]
  },
  {
   "cell_type": "markdown",
   "id": "f53a513d-0c45-4f90-9f90-8212875b4d68",
   "metadata": {},
   "source": [
    "<hr><div class=\"alert alert-block alert-info\" style=\"margin-top: 20px\">\n",
    "    4) Calculate the min, max and mean windspeed and standard deviations of the<br>\n",
    "   windspeeds across all the locations at each day (a different set of numbers<br>\n",
    "   for each day)</div><hr>"
   ]
  },
  {
   "cell_type": "code",
   "execution_count": 17,
   "id": "06026a6d-4c2d-4126-96c7-3fe7ea17deb2",
   "metadata": {},
   "outputs": [
    {
     "data": {
      "text/plain": [
       "array([9.29, 6.5 , 6.17, ..., 8.71, 9.13, 9.59])"
      ]
     },
     "execution_count": 17,
     "metadata": {},
     "output_type": "execute_result"
    }
   ],
   "source": [
    "speed.min(axis = 1)"
   ]
  },
  {
   "cell_type": "code",
   "execution_count": 18,
   "id": "9b9d2c80-cd42-4140-9ba8-0b225811aa8e",
   "metadata": {},
   "outputs": [
    {
     "data": {
      "text/plain": [
       "(6574,)"
      ]
     },
     "execution_count": 18,
     "metadata": {},
     "output_type": "execute_result"
    }
   ],
   "source": [
    "speed.max(axis = 1).shape\n",
    "# speed.mean(axis = 1)\n",
    "# speed.std(axis = 1)"
   ]
  },
  {
   "cell_type": "markdown",
   "id": "594c52ee-e319-4e3a-8ee5-b9d88b2ba0f4",
   "metadata": {},
   "source": [
    "<hr><div class=\"alert alert-block alert-info\" style=\"margin-top: 20px\">\n",
    "5) Find the location which has the greatest windspeed on each day<br>\n",
    "(an integer column number for each day).</div><hr>"
   ]
  },
  {
   "cell_type": "code",
   "execution_count": 19,
   "id": "b1b1dcfb-6122-421b-9ada-ba37ece57cb3",
   "metadata": {},
   "outputs": [
    {
     "data": {
      "text/plain": [
       "array([10, 10,  0, ..., 11, 11,  2], dtype=int64)"
      ]
     },
     "execution_count": 19,
     "metadata": {},
     "output_type": "execute_result"
    }
   ],
   "source": [
    "speed.argmax(axis = 1)"
   ]
  },
  {
   "cell_type": "markdown",
   "id": "438694db-f7ad-4b57-a8b9-6bfb59c2f594",
   "metadata": {},
   "source": [
    "<hr>\n",
    "<div class=\"alert alert-block alert-info\" style=\"margin-top: 20px\">\n",
    "    6) Find the year, month and day on which the greatest windspeed was recorded.\n",
    "</div><hr>"
   ]
  },
  {
   "cell_type": "code",
   "execution_count": 20,
   "id": "0396faad-2c94-4d62-af68-23d586d6aea8",
   "metadata": {},
   "outputs": [
    {
     "data": {
      "text/plain": [
       "(array([2161], dtype=int64), array([11], dtype=int64))"
      ]
     },
     "execution_count": 20,
     "metadata": {},
     "output_type": "execute_result"
    }
   ],
   "source": [
    "np.where(speed == speed.max())"
   ]
  },
  {
   "cell_type": "code",
   "execution_count": 21,
   "id": "b0addadb-0ac3-4f1c-abf6-6908867bae20",
   "metadata": {},
   "outputs": [
    {
     "name": "stdout",
     "output_type": "stream",
     "text": [
      "2161\n"
     ]
    }
   ],
   "source": [
    "#or\n",
    "m = speed.max(axis=1).argmax()\n",
    "print(m)"
   ]
  },
  {
   "cell_type": "code",
   "execution_count": 22,
   "id": "28c72321-d84b-4caa-9ac4-e183f2a629fc",
   "metadata": {},
   "outputs": [
    {
     "data": {
      "text/plain": [
       "array([66., 12.,  2.])"
      ]
     },
     "execution_count": 22,
     "metadata": {},
     "output_type": "execute_result"
    }
   ],
   "source": [
    "date[m,:] #row from previous data"
   ]
  },
  {
   "cell_type": "markdown",
   "id": "3eb593cb-a469-4f24-969f-f86a65b1dfc4",
   "metadata": {},
   "source": [
    "<hr><div class=\"alert alert-block alert-info\" style=\"margin-top: 20px\">\n",
    "    7) Find the average windspeed in January for each location.</div><hr>"
   ]
  },
  {
   "cell_type": "code",
   "execution_count": 23,
   "id": "8c877323-7a4c-429c-94c6-bd5ea854994f",
   "metadata": {},
   "outputs": [
    {
     "data": {
      "text/plain": [
       "array([ True,  True,  True, ..., False, False, False])"
      ]
     },
     "execution_count": 23,
     "metadata": {},
     "output_type": "execute_result"
    }
   ],
   "source": [
    "jan = date[:,1]==1  # Creating a boolean mask for January\n",
    "\n",
    "jan"
   ]
  },
  {
   "cell_type": "code",
   "execution_count": 24,
   "id": "9c34a6c4-f65b-4d6d-a7d5-223c2e843f57",
   "metadata": {},
   "outputs": [
    {
     "name": "stdout",
     "output_type": "stream",
     "text": [
      "[14.86955197 12.92166667 13.29962366  7.19949821 11.67571685  8.05483871\n",
      " 11.81935484  9.5094086   9.54320789 10.05356631 14.55051971 18.02876344]\n"
     ]
    }
   ],
   "source": [
    "jan_speed = speed[jan]  # Filtering speeds for January\n",
    "avg_windspeeds_jan = jan_speed.mean(axis=0)  # Computing mean windspeeds for January\n",
    "\n",
    "print(avg_windspeeds_jan)"
   ]
  }
 ],
 "metadata": {
  "kernelspec": {
   "display_name": "Python 3 (ipykernel)",
   "language": "python",
   "name": "python3"
  },
  "language_info": {
   "codemirror_mode": {
    "name": "ipython",
    "version": 3
   },
   "file_extension": ".py",
   "mimetype": "text/x-python",
   "name": "python",
   "nbconvert_exporter": "python",
   "pygments_lexer": "ipython3",
   "version": "3.12.1"
  }
 },
 "nbformat": 4,
 "nbformat_minor": 5
}
