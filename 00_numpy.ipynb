{
 "cells": [
  {
   "cell_type": "markdown",
   "id": "496d8152-05b1-4915-ad72-61193d6ffd2b",
   "metadata": {},
   "source": [
    "<div class=\"alert alert-block alert-success\" style=\"margin-top: 20px\"><h1> NumPy</h1>\n",
    "<code>By AKSHAY KASHYAP</code></div>"
   ]
  },
  {
   "cell_type": "code",
   "execution_count": 1,
   "id": "97d27036-fef9-499d-8227-5f87a2517dda",
   "metadata": {},
   "outputs": [],
   "source": [
    "import numpy as np"
   ]
  },
  {
   "cell_type": "code",
   "execution_count": 2,
   "id": "b4c2658f-d6c8-4f26-8d29-bc79029590d0",
   "metadata": {},
   "outputs": [
    {
     "data": {
      "text/plain": [
       "'1.26.4'"
      ]
     },
     "execution_count": 2,
     "metadata": {},
     "output_type": "execute_result"
    }
   ],
   "source": [
    "np.__version__"
   ]
  },
  {
   "cell_type": "code",
   "execution_count": 3,
   "id": "ac061057-0e86-414d-8f13-7d8f912b1eb9",
   "metadata": {},
   "outputs": [],
   "source": [
    "#defining array using numpy \n",
    "\n",
    "a = np.array([1,2,3,4])"
   ]
  },
  {
   "cell_type": "code",
   "execution_count": 4,
   "id": "2e62ab78-2eb2-40e8-ab7c-bfe009ebd12c",
   "metadata": {},
   "outputs": [
    {
     "data": {
      "text/plain": [
       "array([1, 2, 3, 4])"
      ]
     },
     "execution_count": 4,
     "metadata": {},
     "output_type": "execute_result"
    }
   ],
   "source": [
    "a"
   ]
  },
  {
   "cell_type": "code",
   "execution_count": 5,
   "id": "d647593b-4ef4-4dc8-8a6d-85b4cc7cbe9a",
   "metadata": {},
   "outputs": [
    {
     "data": {
      "text/plain": [
       "(4,)"
      ]
     },
     "execution_count": 5,
     "metadata": {},
     "output_type": "execute_result"
    }
   ],
   "source": [
    "# shape (row, col)\n",
    "a.shape"
   ]
  },
  {
   "cell_type": "code",
   "execution_count": 6,
   "id": "65aaba0f-25c4-47a8-b7d0-5840e2e826cd",
   "metadata": {},
   "outputs": [
    {
     "data": {
      "text/plain": [
       "4"
      ]
     },
     "execution_count": 6,
     "metadata": {},
     "output_type": "execute_result"
    }
   ],
   "source": [
    "# total element i.e. row*col\n",
    "a.size"
   ]
  },
  {
   "cell_type": "code",
   "execution_count": 7,
   "id": "a7245c47-df37-489c-a7da-f92c6248a2a9",
   "metadata": {},
   "outputs": [
    {
     "data": {
      "text/plain": [
       "1"
      ]
     },
     "execution_count": 7,
     "metadata": {},
     "output_type": "execute_result"
    }
   ],
   "source": [
    "# know dimension\n",
    "a.ndim"
   ]
  },
  {
   "cell_type": "code",
   "execution_count": 8,
   "id": "9fa455d4-92be-4394-9979-cba27cf900dd",
   "metadata": {},
   "outputs": [
    {
     "data": {
      "text/plain": [
       "numpy.ndarray"
      ]
     },
     "execution_count": 8,
     "metadata": {},
     "output_type": "execute_result"
    }
   ],
   "source": [
    "# type v/s dtype\n",
    "type(a)\n",
    "\n",
    "#ndarray => n dimension array"
   ]
  },
  {
   "cell_type": "code",
   "execution_count": 9,
   "id": "5e8a7259-fc38-46df-8e3b-69c64a1866a5",
   "metadata": {},
   "outputs": [
    {
     "data": {
      "text/plain": [
       "dtype('int32')"
      ]
     },
     "execution_count": 9,
     "metadata": {},
     "output_type": "execute_result"
    }
   ],
   "source": [
    "#type v/s dtype\n",
    "a.dtype\n",
    "\n",
    "#dtype => data type"
   ]
  },
  {
   "cell_type": "code",
   "execution_count": 10,
   "id": "41989058-ac2a-4478-b20d-42be64f955cc",
   "metadata": {},
   "outputs": [],
   "source": [
    "f = np.array([2.5, 1.3, 2.7])"
   ]
  },
  {
   "cell_type": "code",
   "execution_count": 11,
   "id": "c1892b28-642b-4484-862e-f455af5923bc",
   "metadata": {},
   "outputs": [
    {
     "data": {
      "text/plain": [
       "numpy.ndarray"
      ]
     },
     "execution_count": 11,
     "metadata": {},
     "output_type": "execute_result"
    }
   ],
   "source": [
    "type(f)"
   ]
  },
  {
   "cell_type": "code",
   "execution_count": 12,
   "id": "cd3b0a1f-a4b2-4f1c-b29a-4cad06b7981a",
   "metadata": {},
   "outputs": [
    {
     "data": {
      "text/plain": [
       "dtype('float64')"
      ]
     },
     "execution_count": 12,
     "metadata": {},
     "output_type": "execute_result"
    }
   ],
   "source": [
    "f.dtype"
   ]
  },
  {
   "cell_type": "markdown",
   "id": "b345cb72-fdae-471c-aa17-5e02704c66f3",
   "metadata": {},
   "source": [
    "<div class=\"alert alert-block alert-info\" style=\"margin-top: 20px\"><H2>access array</H2></DIV>"
   ]
  },
  {
   "cell_type": "code",
   "execution_count": 13,
   "id": "41a69c60-ab48-4ba6-8280-6bd3d2dfe002",
   "metadata": {},
   "outputs": [
    {
     "data": {
      "text/plain": [
       "1"
      ]
     },
     "execution_count": 13,
     "metadata": {},
     "output_type": "execute_result"
    }
   ],
   "source": [
    "a[0] # a[]"
   ]
  },
  {
   "cell_type": "code",
   "execution_count": 14,
   "id": "920a9e93-7fb6-4209-871d-b63b2514987d",
   "metadata": {},
   "outputs": [
    {
     "data": {
      "text/plain": [
       "array([2, 3])"
      ]
     },
     "execution_count": 14,
     "metadata": {},
     "output_type": "execute_result"
    }
   ],
   "source": [
    "a[1:3] # a[start, end] ; end is exclude"
   ]
  },
  {
   "cell_type": "code",
   "execution_count": 15,
   "id": "44f1ba11-7119-4d92-86c5-8bc0abccb891",
   "metadata": {},
   "outputs": [],
   "source": [
    "#assigning new value\n",
    "a[0]=9"
   ]
  },
  {
   "cell_type": "code",
   "execution_count": 16,
   "id": "f28c55a1-f389-4f81-86db-cfa009655282",
   "metadata": {},
   "outputs": [
    {
     "data": {
      "text/plain": [
       "array([9, 2, 3, 4])"
      ]
     },
     "execution_count": 16,
     "metadata": {},
     "output_type": "execute_result"
    }
   ],
   "source": [
    "a"
   ]
  },
  {
   "cell_type": "code",
   "execution_count": 17,
   "id": "e6ebc0b7-0597-41a8-b255-c0614fbd186d",
   "metadata": {},
   "outputs": [],
   "source": [
    "#can't assign different datatype\n",
    "a[3]=7.5\n",
    "\n",
    "# only 7 will be assign instead of 7.5"
   ]
  },
  {
   "cell_type": "code",
   "execution_count": 18,
   "id": "1af223f3-97d2-4275-98a2-9574af40f71f",
   "metadata": {},
   "outputs": [
    {
     "data": {
      "text/plain": [
       "array([9, 2, 3, 7])"
      ]
     },
     "execution_count": 18,
     "metadata": {},
     "output_type": "execute_result"
    }
   ],
   "source": [
    "a"
   ]
  },
  {
   "cell_type": "code",
   "execution_count": 19,
   "id": "25718741-b791-4e3b-b5c8-0f023b1c468d",
   "metadata": {},
   "outputs": [
    {
     "data": {
      "text/plain": [
       "array([2.5, 1.3, 2.7])"
      ]
     },
     "execution_count": 19,
     "metadata": {},
     "output_type": "execute_result"
    }
   ],
   "source": [
    "f"
   ]
  },
  {
   "cell_type": "code",
   "execution_count": 20,
   "id": "88058a10-348f-4a8d-9d7a-f385fd2d1b12",
   "metadata": {},
   "outputs": [],
   "source": [
    "f[2]=5\n",
    "# 5 will be store in float (5. )   "
   ]
  },
  {
   "cell_type": "code",
   "execution_count": 21,
   "id": "d249cece-02de-453f-b8ca-6c52e70597b2",
   "metadata": {},
   "outputs": [
    {
     "data": {
      "text/plain": [
       "array([2.5, 1.3, 5. ])"
      ]
     },
     "execution_count": 21,
     "metadata": {},
     "output_type": "execute_result"
    }
   ],
   "source": [
    "f"
   ]
  },
  {
   "cell_type": "code",
   "execution_count": 22,
   "id": "f24ef406-7adb-47fa-b6d3-60b1d29477b8",
   "metadata": {},
   "outputs": [
    {
     "data": {
      "text/plain": [
       "9"
      ]
     },
     "execution_count": 22,
     "metadata": {},
     "output_type": "execute_result"
    }
   ],
   "source": [
    "# maxmium in an array\n",
    "a.max()"
   ]
  },
  {
   "cell_type": "code",
   "execution_count": 23,
   "id": "97c3b69d-d8cb-47e2-8330-535904f4defc",
   "metadata": {},
   "outputs": [
    {
     "data": {
      "text/plain": [
       "2"
      ]
     },
     "execution_count": 23,
     "metadata": {},
     "output_type": "execute_result"
    }
   ],
   "source": [
    "# minimum in an array\n",
    "a.min()"
   ]
  },
  {
   "cell_type": "markdown",
   "id": "ef767ae7-aee3-4f59-8f31-86e5a66b450a",
   "metadata": {},
   "source": [
    "<div class=\"alert alert-block alert-info\" style=\"margin-top: 20px\"><h2>2D array</h2></div>"
   ]
  },
  {
   "cell_type": "code",
   "execution_count": 24,
   "id": "e03be91b-9817-411e-a822-76eafe57f22b",
   "metadata": {},
   "outputs": [],
   "source": [
    "a2 = np.array([[1,2,22],[5,7,9],[2,36,7]])   #np.array([[]]) , 2 square bracket = 2D"
   ]
  },
  {
   "cell_type": "code",
   "execution_count": 25,
   "id": "c1bf3e09-b980-4734-abfb-ec5039d2a86d",
   "metadata": {},
   "outputs": [
    {
     "data": {
      "text/plain": [
       "array([[ 1,  2, 22],\n",
       "       [ 5,  7,  9],\n",
       "       [ 2, 36,  7]])"
      ]
     },
     "execution_count": 25,
     "metadata": {},
     "output_type": "execute_result"
    }
   ],
   "source": [
    "a2"
   ]
  },
  {
   "cell_type": "code",
   "execution_count": 26,
   "id": "1653c714-2fba-41fd-a92c-7f5b6e990b2f",
   "metadata": {},
   "outputs": [
    {
     "data": {
      "text/plain": [
       "(3, 3)"
      ]
     },
     "execution_count": 26,
     "metadata": {},
     "output_type": "execute_result"
    }
   ],
   "source": [
    "a2.shape"
   ]
  },
  {
   "cell_type": "code",
   "execution_count": 27,
   "id": "522c571d-695a-4843-80fb-d13e3cb6ccc6",
   "metadata": {},
   "outputs": [
    {
     "data": {
      "text/plain": [
       "9"
      ]
     },
     "execution_count": 27,
     "metadata": {},
     "output_type": "execute_result"
    }
   ],
   "source": [
    "a2.size"
   ]
  },
  {
   "cell_type": "code",
   "execution_count": 28,
   "id": "dec91f6f-8702-4e7c-9ef7-af547f294f72",
   "metadata": {},
   "outputs": [
    {
     "data": {
      "text/plain": [
       "2"
      ]
     },
     "execution_count": 28,
     "metadata": {},
     "output_type": "execute_result"
    }
   ],
   "source": [
    "a2.ndim # dimension"
   ]
  },
  {
   "cell_type": "code",
   "execution_count": 29,
   "id": "7d663089-2b37-4992-b35d-8e05662a0675",
   "metadata": {},
   "outputs": [
    {
     "data": {
      "text/plain": [
       "numpy.ndarray"
      ]
     },
     "execution_count": 29,
     "metadata": {},
     "output_type": "execute_result"
    }
   ],
   "source": [
    "type(a2)"
   ]
  },
  {
   "cell_type": "code",
   "execution_count": 30,
   "id": "2c21ce6a-c44e-4ed0-82de-bc83ab614cea",
   "metadata": {},
   "outputs": [
    {
     "data": {
      "text/plain": [
       "dtype('int32')"
      ]
     },
     "execution_count": 30,
     "metadata": {},
     "output_type": "execute_result"
    }
   ],
   "source": [
    "a2.dtype"
   ]
  },
  {
   "cell_type": "markdown",
   "id": "2dc3f378-3249-41fd-a4e7-b2a37819cb8e",
   "metadata": {},
   "source": [
    "<div class=\"alert alert-block alert-success\" style=\"margin-top: 20px\"><h2>accessing 2D element</h2></div>"
   ]
  },
  {
   "cell_type": "code",
   "execution_count": 31,
   "id": "843dc590-18b0-484f-9e60-5d72dc0595fc",
   "metadata": {},
   "outputs": [
    {
     "data": {
      "text/plain": [
       "array([[ 1,  2, 22],\n",
       "       [ 5,  7,  9],\n",
       "       [ 2, 36,  7]])"
      ]
     },
     "execution_count": 31,
     "metadata": {},
     "output_type": "execute_result"
    }
   ],
   "source": [
    "a2"
   ]
  },
  {
   "cell_type": "markdown",
   "id": "9ce0e4ba-e8bb-4cef-b46b-225264c1754c",
   "metadata": {},
   "source": [
    "<hr>\n",
    "let's , I wanna print 36 , so row : 2 , col : 1 <hr>"
   ]
  },
  {
   "cell_type": "code",
   "execution_count": 32,
   "id": "6aa0ca91-c668-4321-9d3a-5d84bfe15a33",
   "metadata": {},
   "outputs": [
    {
     "data": {
      "text/plain": [
       "36"
      ]
     },
     "execution_count": 32,
     "metadata": {},
     "output_type": "execute_result"
    }
   ],
   "source": [
    "a2[2,1] # a2[row,col]"
   ]
  },
  {
   "cell_type": "code",
   "execution_count": 33,
   "id": "35c86e1a-98d5-4a1c-894b-d73b892a140c",
   "metadata": {},
   "outputs": [
    {
     "data": {
      "text/plain": [
       "array([[ 5,  7],\n",
       "       [ 2, 36]])"
      ]
     },
     "execution_count": 33,
     "metadata": {},
     "output_type": "execute_result"
    }
   ],
   "source": [
    "a2[1:3,0:2] # 0:2 means only 2 not included (only 0,1)"
   ]
  },
  {
   "cell_type": "code",
   "execution_count": 34,
   "id": "ce011b07-99fb-4782-a9ac-6e96b2413d28",
   "metadata": {},
   "outputs": [
    {
     "data": {
      "text/plain": [
       "array([[ 2, 22],\n",
       "       [36,  7]])"
      ]
     },
     "execution_count": 34,
     "metadata": {},
     "output_type": "execute_result"
    }
   ],
   "source": [
    "a2[[0,2],1:3]\n",
    "# row (0, 2 only)\n",
    "# col (1 to 2 ; 3 excluded )"
   ]
  },
  {
   "cell_type": "markdown",
   "id": "527bfd23-74f7-4d93-b6e3-c3744195417d",
   "metadata": {},
   "source": [
    "<hr><div><h2><code>arange</code>, <code>reshape</code> and <code>linspace</code> </h2></div><hr>"
   ]
  },
  {
   "cell_type": "code",
   "execution_count": 35,
   "id": "4e1c8df5-512d-4312-bbb3-395b83a62c79",
   "metadata": {},
   "outputs": [],
   "source": [
    "a = np.arange(10) # create array 0 to 9 in 1D only"
   ]
  },
  {
   "cell_type": "code",
   "execution_count": 36,
   "id": "5485a5aa-d729-4cda-af6d-1c6753f23994",
   "metadata": {},
   "outputs": [
    {
     "data": {
      "text/plain": [
       "array([0, 1, 2, 3, 4, 5, 6, 7, 8, 9])"
      ]
     },
     "execution_count": 36,
     "metadata": {},
     "output_type": "execute_result"
    }
   ],
   "source": [
    "a"
   ]
  },
  {
   "cell_type": "code",
   "execution_count": 37,
   "id": "85ce5e80-cb86-4ff3-8c4d-717b2b477d08",
   "metadata": {},
   "outputs": [
    {
     "data": {
      "text/plain": [
       "array([2, 4, 6, 8])"
      ]
     },
     "execution_count": 37,
     "metadata": {},
     "output_type": "execute_result"
    }
   ],
   "source": [
    "np.arange(2,10,2) # (start,end,step)"
   ]
  },
  {
   "cell_type": "code",
   "execution_count": 38,
   "id": "b312172a-e885-4239-ac24-575ed8e9dea1",
   "metadata": {},
   "outputs": [
    {
     "data": {
      "text/plain": [
       "array([[0, 1, 2, 3, 4],\n",
       "       [5, 6, 7, 8, 9]])"
      ]
     },
     "execution_count": 38,
     "metadata": {},
     "output_type": "execute_result"
    }
   ],
   "source": [
    "a.reshape(2,5) # reshaping in 2D (2 rows, 5 columns)"
   ]
  },
  {
   "cell_type": "code",
   "execution_count": 39,
   "id": "79a60748-7e8f-4d01-9eda-69a7ae51a652",
   "metadata": {},
   "outputs": [
    {
     "data": {
      "text/plain": [
       "array([[ 0,  1,  2,  3],\n",
       "       [ 4,  5,  6,  7],\n",
       "       [ 8,  9, 10, 11]])"
      ]
     },
     "execution_count": 39,
     "metadata": {},
     "output_type": "execute_result"
    }
   ],
   "source": [
    "np.arange(12).reshape(3,4) # creating array and reshaping in single line"
   ]
  },
  {
   "cell_type": "markdown",
   "id": "2d9e1bbf-fa5a-45a3-9b5a-8b92befd9a08",
   "metadata": {},
   "source": [
    "<hr>linspace (linear space) create a number line and divide in No. of value we need<hr>"
   ]
  },
  {
   "cell_type": "code",
   "execution_count": 40,
   "id": "a7746369-06bf-4efb-bec4-e1eda31b180f",
   "metadata": {},
   "outputs": [
    {
     "data": {
      "text/plain": [
       "array([ 0. ,  2.5,  5. ,  7.5, 10. ])"
      ]
     },
     "execution_count": 40,
     "metadata": {},
     "output_type": "execute_result"
    }
   ],
   "source": [
    "np.linspace(0,10,5) # (start,end, number_of_value_we_need) [start and end both are inclusive]"
   ]
  },
  {
   "cell_type": "code",
   "execution_count": 41,
   "id": "b23e7033-2fe7-4003-ad4e-f051747a8e7b",
   "metadata": {},
   "outputs": [
    {
     "data": {
      "text/plain": [
       "array([1.00000000e+00, 3.16227766e+12, 1.00000000e+25, 3.16227766e+37,\n",
       "       1.00000000e+50])"
      ]
     },
     "execution_count": 41,
     "metadata": {},
     "output_type": "execute_result"
    }
   ],
   "source": [
    "# similarly logspace (logrithimic space)\n",
    "np.logspace(0,50,5)"
   ]
  },
  {
   "cell_type": "code",
   "execution_count": null,
   "id": "24d6a135-7c24-4d1c-9252-48f5cc9071b1",
   "metadata": {},
   "outputs": [],
   "source": []
  }
 ],
 "metadata": {
  "kernelspec": {
   "display_name": "Python 3 (ipykernel)",
   "language": "python",
   "name": "python3"
  },
  "language_info": {
   "codemirror_mode": {
    "name": "ipython",
    "version": 3
   },
   "file_extension": ".py",
   "mimetype": "text/x-python",
   "name": "python",
   "nbconvert_exporter": "python",
   "pygments_lexer": "ipython3",
   "version": "3.12.1"
  }
 },
 "nbformat": 4,
 "nbformat_minor": 5
}
