{
 "cells": [
  {
   "cell_type": "markdown",
   "id": "66f2ae88-a74e-46c4-87db-4f9be0b64a6e",
   "metadata": {},
   "source": [
    "<div class=\"alert alert-block alert-info\" style=\"margin-top: 20px\"><h1> NumPy</h1>\n",
    "<code>By AKSHAY KASHYAP</code></div>"
   ]
  },
  {
   "cell_type": "code",
   "execution_count": 1,
   "id": "756f5401-6123-4736-90ed-dbf24d11f389",
   "metadata": {},
   "outputs": [],
   "source": [
    "import numpy as np\n",
    "import matplotlib.pyplot as plt"
   ]
  },
  {
   "cell_type": "markdown",
   "id": "f1e07406-b363-4ace-80f1-7dedcb57cec8",
   "metadata": {},
   "source": [
    "<hr><div><code>Zeroes</code>, <code>Ones</code>, <code>full</code>, <code>empty</code>, and <code>Identity</code> matrix</div><hr>"
   ]
  },
  {
   "cell_type": "code",
   "execution_count": 2,
   "id": "cae98ab7-325b-4b6f-8d71-e62a278c615b",
   "metadata": {},
   "outputs": [
    {
     "data": {
      "text/plain": [
       "array([[0., 0., 0., 0., 0.],\n",
       "       [0., 0., 0., 0., 0.]])"
      ]
     },
     "execution_count": 2,
     "metadata": {},
     "output_type": "execute_result"
    }
   ],
   "source": [
    "np.zeros((2,5)) # \"one ()\" for calling method, \"(2nd)\" for row column"
   ]
  },
  {
   "cell_type": "code",
   "execution_count": 3,
   "id": "ed3a9b9c-da06-4342-9329-8d976a097c32",
   "metadata": {},
   "outputs": [
    {
     "data": {
      "text/plain": [
       "array([0., 0., 0., 0., 0.])"
      ]
     },
     "execution_count": 3,
     "metadata": {},
     "output_type": "execute_result"
    }
   ],
   "source": [
    "np.zeros(5) # no double (()) , because its 1D"
   ]
  },
  {
   "cell_type": "code",
   "execution_count": 4,
   "id": "797d068b-8ee7-4516-b51b-571cbb2d342d",
   "metadata": {},
   "outputs": [
    {
     "data": {
      "text/plain": [
       "array([1., 1., 1., 1., 1., 1., 1.])"
      ]
     },
     "execution_count": 4,
     "metadata": {},
     "output_type": "execute_result"
    }
   ],
   "source": [
    "np.ones(7)"
   ]
  },
  {
   "cell_type": "code",
   "execution_count": 5,
   "id": "22d2af82-4527-42db-bda0-8b3230f61342",
   "metadata": {},
   "outputs": [
    {
     "data": {
      "text/plain": [
       "array([[1., 1., 1., 1.],\n",
       "       [1., 1., 1., 1.],\n",
       "       [1., 1., 1., 1.]])"
      ]
     },
     "execution_count": 5,
     "metadata": {},
     "output_type": "execute_result"
    }
   ],
   "source": [
    "np.ones((3,4)) # 3 rows, 4 columns"
   ]
  },
  {
   "cell_type": "markdown",
   "id": "4e2cd1f0-7395-481e-b041-40a115d579ed",
   "metadata": {},
   "source": [
    "<hr>creating for any digit (like ones)<hr>"
   ]
  },
  {
   "cell_type": "code",
   "execution_count": 6,
   "id": "f29b99f6-031a-4734-9ec4-267206453bfa",
   "metadata": {},
   "outputs": [
    {
     "data": {
      "text/plain": [
       "array([[5., 5., 5., 5.],\n",
       "       [5., 5., 5., 5.],\n",
       "       [5., 5., 5., 5.]])"
      ]
     },
     "execution_count": 6,
     "metadata": {},
     "output_type": "execute_result"
    }
   ],
   "source": [
    "a = 5*np.ones((3,4))\n",
    "a"
   ]
  },
  {
   "cell_type": "code",
   "execution_count": 7,
   "id": "40dcb143-5d57-4453-948e-2af243961bbb",
   "metadata": {},
   "outputs": [
    {
     "data": {
      "text/plain": [
       "array([[7, 7, 7, 7],\n",
       "       [7, 7, 7, 7],\n",
       "       [7, 7, 7, 7]])"
      ]
     },
     "execution_count": 7,
     "metadata": {},
     "output_type": "execute_result"
    }
   ],
   "source": [
    "#2nd method\n",
    "np.full((3,4),7)  # ((row,column), number_to_fill)"
   ]
  },
  {
   "cell_type": "code",
   "execution_count": 8,
   "id": "fe274cca-17bb-4c78-98d3-df6ddb7834ee",
   "metadata": {},
   "outputs": [
    {
     "data": {
      "text/plain": [
       "array([[8.11255790e-321, 0.00000000e+000],\n",
       "       [1.86947829e-310, 0.00000000e+000],\n",
       "       [0.00000000e+000, 2.10966031e-321]])"
      ]
     },
     "execution_count": 8,
     "metadata": {},
     "output_type": "execute_result"
    }
   ],
   "source": [
    "np.empty((3,2))"
   ]
  },
  {
   "cell_type": "markdown",
   "id": "ad94ee46-ed88-4fba-b8e1-424a8ff4b897",
   "metadata": {},
   "source": [
    "<hr><div>\n",
    "    The values you see in the array are essentially <code>garbage</code> values that were already present<br>\n",
    "    in the <code>allocated memory</code>. It's important to note that np.empty() is not meant to provide<br>\n",
    "    predictable initial values; rather, it's used when you need an array of a certain shape<br>\n",
    "    and plan to fill it with meaningful data later on.\n",
    "</div><hr> "
   ]
  },
  {
   "cell_type": "code",
   "execution_count": 9,
   "id": "1eaa83e9-fe85-4414-8523-02c26d71c84f",
   "metadata": {},
   "outputs": [
    {
     "data": {
      "text/plain": [
       "array([[1., 0., 0.],\n",
       "       [0., 1., 0.],\n",
       "       [0., 0., 1.]])"
      ]
     },
     "execution_count": 9,
     "metadata": {},
     "output_type": "execute_result"
    }
   ],
   "source": [
    "np.eye(3) # identity matrix (diagonal is 1, other element is 0)"
   ]
  },
  {
   "cell_type": "markdown",
   "id": "686a50d3-c899-4254-9747-7d349a5fbe7c",
   "metadata": {},
   "source": [
    "<hr><div class=\"alert alert-block alert-info\" style=\"margin-top: 20px\">\n",
    "    <h3>Random Number Generation</h3>\n",
    "</div><hr>"
   ]
  },
  {
   "cell_type": "markdown",
   "id": "357585f0-6013-478c-a437-cf4922caaef3",
   "metadata": {},
   "source": [
    "<hr>\"Random number generation (from Uniform distribution)\""
   ]
  },
  {
   "cell_type": "code",
   "execution_count": 10,
   "id": "4bebfab6-8108-4cec-b70e-e00cf82e63da",
   "metadata": {},
   "outputs": [
    {
     "data": {
      "text/plain": [
       "array([[0.08711874, 0.79539692, 0.94500251],\n",
       "       [0.43599457, 0.84581599, 0.8858177 ]])"
      ]
     },
     "execution_count": 10,
     "metadata": {},
     "output_type": "execute_result"
    }
   ],
   "source": [
    "np.random.rand(2,3) # (row,column)"
   ]
  },
  {
   "cell_type": "markdown",
   "id": "52cf5aac-c654-4784-be73-9a5cc78f6958",
   "metadata": {},
   "source": [
    "<hr>\"Numbers from Normal distribution with zero mean and standard deviation 1 i.e. standard normal\""
   ]
  },
  {
   "cell_type": "code",
   "execution_count": 11,
   "id": "0de2abb6-ce51-49bf-bc10-774cb688c543",
   "metadata": {},
   "outputs": [
    {
     "data": {
      "text/plain": [
       "array([[ 0.04620264,  0.47695688,  0.13874971],\n",
       "       [ 0.4537932 ,  0.65062385,  0.06597209],\n",
       "       [ 0.04518326,  1.1700668 , -0.10469039],\n",
       "       [-0.87803088,  0.54715198,  1.51757753]])"
      ]
     },
     "execution_count": 11,
     "metadata": {},
     "output_type": "execute_result"
    }
   ],
   "source": [
    "np.random.randn(4,3) # random Normal"
   ]
  },
  {
   "cell_type": "markdown",
   "id": "9162cc8b-cce4-4961-bc93-0b79b7e1a7ae",
   "metadata": {},
   "source": [
    "<hr>\"Random integer\""
   ]
  },
  {
   "cell_type": "code",
   "execution_count": 12,
   "id": "55f65da3-5b19-4242-96ad-0b4497119d54",
   "metadata": {},
   "outputs": [
    {
     "data": {
      "text/plain": [
       "array([97, 55, 74, 23, 41, 19, 95,  4, 44, 97])"
      ]
     },
     "execution_count": 12,
     "metadata": {},
     "output_type": "execute_result"
    }
   ],
   "source": [
    "np.random.randint(1,100,10) #randint (low, high, # of samples to be drawn)"
   ]
  },
  {
   "cell_type": "code",
   "execution_count": 13,
   "id": "0693ec0d-a5d2-4815-958b-a8304c69db3f",
   "metadata": {},
   "outputs": [
    {
     "data": {
      "text/plain": [
       "array([[44, 21, 96, 50],\n",
       "       [91, 84, 18,  3],\n",
       "       [52, 20, 90,  1],\n",
       "       [99,  5, 90, 82]])"
      ]
     },
     "execution_count": 13,
     "metadata": {},
     "output_type": "execute_result"
    }
   ],
   "source": [
    "np.random.randint(1,100,(4,4)) # (start,end,(row,column)) ; END NOT INCLUDED\n",
    "#randint (low, high, # of samples to be drawn in a tuple to form a matrix)\n"
   ]
  },
  {
   "cell_type": "code",
   "execution_count": 14,
   "id": "5b476a67-6d38-4316-b5a1-2a5727c24f82",
   "metadata": {},
   "outputs": [
    {
     "data": {
      "text/plain": [
       "array([6, 6, 5, 2, 3, 3, 1, 1, 2, 3, 2, 2, 2, 4, 3, 3, 3, 1, 1, 5])"
      ]
     },
     "execution_count": 14,
     "metadata": {},
     "output_type": "execute_result"
    }
   ],
   "source": [
    "np.random.randint(1,7,20) # dice(1,7,20_sample)  7 NOT INCLUDED"
   ]
  },
  {
   "cell_type": "markdown",
   "id": "4fa15b76-4541-4d58-919a-f574766f4741",
   "metadata": {},
   "source": [
    "<hr>sorting random generated array<hr>"
   ]
  },
  {
   "cell_type": "code",
   "execution_count": 15,
   "id": "5539fa8d-f567-4272-9f5f-3c14d3f1dc92",
   "metadata": {},
   "outputs": [],
   "source": [
    "a = np.random.randint(1,100,18).reshape(3,6)"
   ]
  },
  {
   "cell_type": "code",
   "execution_count": 16,
   "id": "9441b7c0-2e75-4776-a97f-8cf8bf646fa0",
   "metadata": {},
   "outputs": [
    {
     "data": {
      "text/plain": [
       "array([[ 7, 16, 20, 46, 49, 74],\n",
       "       [12, 30, 43, 76, 85, 94],\n",
       "       [10, 47, 50, 57, 62, 91]])"
      ]
     },
     "execution_count": 16,
     "metadata": {},
     "output_type": "execute_result"
    }
   ],
   "source": [
    "# sorting row\n",
    "np.sort(a, kind='mergesort') # default axis=0"
   ]
  },
  {
   "cell_type": "code",
   "execution_count": 17,
   "id": "10dd7baa-5b3e-4970-8e48-b449f7a69575",
   "metadata": {},
   "outputs": [
    {
     "data": {
      "text/plain": [
       "array([[ 7, 16, 20, 46, 49, 74],\n",
       "       [12, 30, 43, 76, 85, 94],\n",
       "       [10, 47, 50, 57, 62, 91]])"
      ]
     },
     "execution_count": 17,
     "metadata": {},
     "output_type": "execute_result"
    }
   ],
   "source": [
    "# sorting column\n",
    "np.sort(a, axis=1, kind='mergesort')"
   ]
  },
  {
   "cell_type": "markdown",
   "id": "73f50506-9253-4593-a5a9-a255374a853b",
   "metadata": {},
   "source": [
    "<div class=\"alert alert-block alert-info\" style=\"margin-top: 20px\"><h3>NumPy basic statistics on array</h3>\n",
    "</div>"
   ]
  },
  {
   "cell_type": "code",
   "execution_count": 18,
   "id": "9d24885e-feb2-4b35-bcf2-4213a5c95a07",
   "metadata": {},
   "outputs": [
    {
     "data": {
      "text/plain": [
       "array([[5, 2, 4, 5],\n",
       "       [4, 2, 2, 3]])"
      ]
     },
     "execution_count": 18,
     "metadata": {},
     "output_type": "execute_result"
    }
   ],
   "source": [
    "a = np.array(np.random.randint(1,10,8)).reshape(2,4) # random int (start,end, no_of_sample)\n",
    "a"
   ]
  },
  {
   "cell_type": "code",
   "execution_count": 19,
   "id": "bf5268f5-3188-467a-8d8d-e22fed0c5cbf",
   "metadata": {},
   "outputs": [
    {
     "data": {
      "text/plain": [
       "27"
      ]
     },
     "execution_count": 19,
     "metadata": {},
     "output_type": "execute_result"
    }
   ],
   "source": [
    "np.sum(a)"
   ]
  },
  {
   "cell_type": "code",
   "execution_count": 20,
   "id": "43efa1ac-99e8-47f7-8bee-6921423c4133",
   "metadata": {},
   "outputs": [
    {
     "data": {
      "text/plain": [
       "array([9, 4, 6, 8])"
      ]
     },
     "execution_count": 20,
     "metadata": {},
     "output_type": "execute_result"
    }
   ],
   "source": [
    "np.sum(a, axis= 0) # sum of rows"
   ]
  },
  {
   "cell_type": "code",
   "execution_count": 21,
   "id": "eb60085b-c143-4910-a416-84a77410f14c",
   "metadata": {},
   "outputs": [
    {
     "data": {
      "text/plain": [
       "array([16, 11])"
      ]
     },
     "execution_count": 21,
     "metadata": {},
     "output_type": "execute_result"
    }
   ],
   "source": [
    "np.sum(a, axis = 1) # sum of cols"
   ]
  },
  {
   "cell_type": "code",
   "execution_count": 22,
   "id": "a776a15f-b880-46a3-b050-99913615bc5e",
   "metadata": {},
   "outputs": [
    {
     "data": {
      "text/plain": [
       "3.375"
      ]
     },
     "execution_count": 22,
     "metadata": {},
     "output_type": "execute_result"
    }
   ],
   "source": [
    "np.mean(a) # mean of whole matrix"
   ]
  },
  {
   "cell_type": "code",
   "execution_count": 23,
   "id": "d6b53a6b-2c84-4b04-91d1-3fc5b7559100",
   "metadata": {},
   "outputs": [
    {
     "data": {
      "text/plain": [
       "array([4.  , 2.75])"
      ]
     },
     "execution_count": 23,
     "metadata": {},
     "output_type": "execute_result"
    }
   ],
   "source": [
    "np.mean(a, axis=1)  # mean of cols"
   ]
  },
  {
   "cell_type": "code",
   "execution_count": 24,
   "id": "6a9eac7d-0d00-4c41-9128-ce1b8742262b",
   "metadata": {},
   "outputs": [
    {
     "data": {
      "text/plain": [
       "array([0.5, 0. , 1. , 1. ])"
      ]
     },
     "execution_count": 24,
     "metadata": {},
     "output_type": "execute_result"
    }
   ],
   "source": [
    "np.std(a, axis=0) #standard deviation of rows"
   ]
  },
  {
   "cell_type": "code",
   "execution_count": 25,
   "id": "4ac6d635-a472-464a-8c59-c2fb4abc8d4e",
   "metadata": {},
   "outputs": [
    {
     "data": {
      "text/plain": [
       "array([0.25, 0.  , 1.  , 1.  ])"
      ]
     },
     "execution_count": 25,
     "metadata": {},
     "output_type": "execute_result"
    }
   ],
   "source": [
    "np.var(a, axis=0 ) #variance of rows (variance = sq. of standard deviation)"
   ]
  },
  {
   "cell_type": "markdown",
   "id": "8e739fcb-03c3-436a-b10a-6c1635871933",
   "metadata": {},
   "source": [
    "<hr><div class=\"alert alert-block alert-danger\" style=\"margin-top: 20px\">\n",
    "Let's calculate <code>IQR</code> (Interquartile Range)\n",
    "<li>min</li>\n",
    "<li>Q1 => 1st Quartile (25 percentile)</li>\n",
    "<li>median (Q2) => 2nd Quartile (50 percentile)</li>\n",
    "<li>Q3 => 3rd Quartile (75 percentile)</li>\n",
    "<code>IQR</code> = <code>Q3</code> - <code>Q1</code>\n",
    "</div>\n",
    "<hr>"
   ]
  },
  {
   "cell_type": "code",
   "execution_count": 26,
   "id": "fd947a8d-5d1f-4c87-aa64-6900761fdd5b",
   "metadata": {},
   "outputs": [],
   "source": [
    "q1 =np.percentile(a,25)\n",
    "q3 =np.percentile(a,75)"
   ]
  },
  {
   "cell_type": "code",
   "execution_count": 27,
   "id": "9270a8a4-c238-4244-9c8c-e204f7186bcd",
   "metadata": {},
   "outputs": [
    {
     "data": {
      "text/plain": [
       "2.25"
      ]
     },
     "execution_count": 27,
     "metadata": {},
     "output_type": "execute_result"
    }
   ],
   "source": [
    "iqr = q3-q1\n",
    "iqr"
   ]
  },
  {
   "cell_type": "markdown",
   "id": "292b7b61-ca48-4dad-b038-42ff05283de4",
   "metadata": {},
   "source": [
    "<div class=\"alert alert-block alert-success\" style=\"margin-top: 20px\">\n",
    "Correlation and covariance\n",
    "</div>"
   ]
  },
  {
   "cell_type": "markdown",
   "id": "8ddb3f0d-279f-4936-9ccb-d6aa75297aa6",
   "metadata": {},
   "source": [
    "<div>\n",
    "<code>Covariance</code> measures the directional relationship between two random variables. It indicates how much two variables change together.\n",
    "</div>\n",
    "<div>\n",
    "    <code>Correlation</code> is a standardized measure of the linear relationship between two variables. It provides both the strength and direction of the relationship.\n",
    "</div>"
   ]
  },
  {
   "cell_type": "code",
   "execution_count": 28,
   "id": "e4efb11d-f4f1-4031-b9fd-8f8c8dcdedff",
   "metadata": {},
   "outputs": [],
   "source": [
    "a = np.random.randint(1,10,20) # 20 random integeres (1-10)\n",
    "b = 2*a + 5*np.random.randn(20) # b is (double of \"a\" +  5_times * \"some random noise\")"
   ]
  },
  {
   "cell_type": "code",
   "execution_count": 29,
   "id": "4454e371-efbb-4d36-a18b-6fc475854395",
   "metadata": {},
   "outputs": [
    {
     "data": {
      "text/plain": [
       "<matplotlib.collections.PathCollection at 0x1ca68dadf70>"
      ]
     },
     "execution_count": 29,
     "metadata": {},
     "output_type": "execute_result"
    },
    {
     "data": {
      "image/png": "[encoded data removed]",
      "text/plain": [
       "<Figure size 640x480 with 1 Axes>"
      ]
     },
     "metadata": {},
     "output_type": "display_data"
    }
   ],
   "source": [
    "plt.scatter(a,b) # Scatter plot of B"
   ]
  },
  {
   "cell_type": "code",
   "execution_count": 30,
   "id": "3396da4d-6115-47ae-a77c-6863f2703e12",
   "metadata": {},
   "outputs": [
    {
     "data": {
      "text/plain": [
       "array([[ 6.35789474, 17.18063156],\n",
       "       [17.18063156, 67.25924437]])"
      ]
     },
     "execution_count": 30,
     "metadata": {},
     "output_type": "execute_result"
    }
   ],
   "source": [
    "# covariance\n",
    "np.cov(a,b)"
   ]
  },
  {
   "cell_type": "code",
   "execution_count": 31,
   "id": "ca1a3a3f-5d57-4971-8a46-438f3263f7f0",
   "metadata": {},
   "outputs": [
    {
     "data": {
      "text/plain": [
       "array([[1.        , 0.83081909],\n",
       "       [0.83081909, 1.        ]])"
      ]
     },
     "execution_count": 31,
     "metadata": {},
     "output_type": "execute_result"
    }
   ],
   "source": [
    "# Correleation coefficient \n",
    "np.corrcoef(a,b) "
   ]
  },
  {
   "cell_type": "markdown",
   "id": "1af2bdf5-5072-41e1-a36e-fbaa1a1bf82b",
   "metadata": {},
   "source": [
    "<hr><div>another small example if don't understand above data</div><hr>"
   ]
  },
  {
   "cell_type": "code",
   "execution_count": 32,
   "id": "20753316-8ad5-4052-8ff7-76b7527ae83a",
   "metadata": {},
   "outputs": [
    {
     "name": "stdout",
     "output_type": "stream",
     "text": [
      "Covariance b/w X and Y:\n",
      " -2.5\n",
      "Correlation coefficient b/w X and Y: \n",
      " [[ 1. -1.]\n",
      " [-1.  1.]]\n"
     ]
    }
   ],
   "source": [
    "X = np.array([1, 2, 3, 4, 5])\n",
    "Y = np.array([5, 4, 3, 2, 1])\n",
    "\n",
    "# Compute covariance\n",
    "# covariance = np.cov(X, Y)\n",
    "covariance = np.cov(X, Y)[0, 1]  # [0, 1] gives the covariance between X and Y\n",
    "\n",
    "# Compute correlation coefficient\n",
    "corr = np.corrcoef(X, Y)\n",
    "# corr = np.corrcoef(X, Y)[0, 1]  # [0, 1] gives the correlation coefficient b/w X and Y\n",
    "\n",
    "print(f\"Covariance b/w X and Y:\\n {covariance}\")\n",
    "print(f\"Correlation coefficient b/w X and Y: \\n {corr}\")\n"
   ]
  },
  {
   "cell_type": "markdown",
   "id": "6b0fec74-2f32-497f-8274-4fe306a26841",
   "metadata": {},
   "source": [
    "<hr>\n",
    "<div class=\"alert alert-block alert-info\" style=\"margin-top: 20px\">\n",
    "    <h3>Linear Algebra Operations</h3>\n",
    "</div> <hr>"
   ]
  },
  {
   "cell_type": "markdown",
   "id": "9c708dc9-ac1f-4e45-b7c5-a9d322f69910",
   "metadata": {},
   "source": [
    "<code>Dot</code> / <code>Inner</code> / <code>Outer</code> products"
   ]
  },
  {
   "cell_type": "code",
   "execution_count": 33,
   "id": "17a30ba7-2ea6-4d21-9f6c-7d3083966d73",
   "metadata": {},
   "outputs": [
    {
     "data": {
      "text/plain": [
       "array([[ 0,  1,  2,  3,  4],\n",
       "       [ 5,  6,  7,  8,  9],\n",
       "       [10, 11, 12, 13, 14]])"
      ]
     },
     "execution_count": 33,
     "metadata": {},
     "output_type": "execute_result"
    }
   ],
   "source": [
    "a = np.arange(15).reshape(3,5)\n",
    "a"
   ]
  },
  {
   "cell_type": "code",
   "execution_count": 34,
   "id": "bf031aff-3413-414f-a3fa-1ea75daa4c9a",
   "metadata": {},
   "outputs": [
    {
     "data": {
      "text/plain": [
       "array([[50, 52, 54],\n",
       "       [56, 58, 60],\n",
       "       [62, 64, 66],\n",
       "       [68, 70, 72],\n",
       "       [74, 76, 78]])"
      ]
     },
     "execution_count": 34,
     "metadata": {},
     "output_type": "execute_result"
    }
   ],
   "source": [
    "b = np.arange(50,80,2).reshape(5,3)\n",
    "b"
   ]
  },
  {
   "cell_type": "code",
   "execution_count": 35,
   "id": "d153f14b-081d-4285-b13b-257bc4c3982d",
   "metadata": {},
   "outputs": [
    {
     "data": {
      "text/plain": [
       "array([[ 680,  700,  720],\n",
       "       [2230, 2300, 2370],\n",
       "       [3780, 3900, 4020]])"
      ]
     },
     "execution_count": 35,
     "metadata": {},
     "output_type": "execute_result"
    }
   ],
   "source": [
    "np.dot(a,b)\n",
    "# its a multiplication of two matrix (so shape should be matrix multiplication rule)"
   ]
  },
  {
   "cell_type": "code",
   "execution_count": 36,
   "id": "9d1223a8-0427-420b-8f74-4978f5c76205",
   "metadata": {},
   "outputs": [
    {
     "name": "stdout",
     "output_type": "stream",
     "text": [
      "(3, 5)\n",
      "(5, 3)\n"
     ]
    }
   ],
   "source": [
    "print(a.shape)\n",
    "print(b.shape)"
   ]
  },
  {
   "cell_type": "code",
   "execution_count": 37,
   "id": "c950322e-38e0-4abd-8c40-4e698ad2157c",
   "metadata": {},
   "outputs": [],
   "source": [
    "b = b.reshape(3,5)"
   ]
  },
  {
   "cell_type": "code",
   "execution_count": 38,
   "id": "9e991a90-e442-431f-b262-0d40ef22d651",
   "metadata": {},
   "outputs": [
    {
     "data": {
      "text/plain": [
       "array([[ 560,  660,  760],\n",
       "       [1910, 2260, 2610],\n",
       "       [3260, 3860, 4460]])"
      ]
     },
     "execution_count": 38,
     "metadata": {},
     "output_type": "execute_result"
    }
   ],
   "source": [
    "np.inner(a,b) "
   ]
  },
  {
   "cell_type": "code",
   "execution_count": 39,
   "id": "a14f6066-2c3c-42ab-994f-6971aa3d23e1",
   "metadata": {},
   "outputs": [
    {
     "data": {
      "text/plain": [
       "array([[   0,    0,    0,    0,    0,    0,    0,    0,    0,    0,    0,\n",
       "           0,    0,    0,    0],\n",
       "       [  50,   52,   54,   56,   58,   60,   62,   64,   66,   68,   70,\n",
       "          72,   74,   76,   78],\n",
       "       [ 100,  104,  108,  112,  116,  120,  124,  128,  132,  136,  140,\n",
       "         144,  148,  152,  156],\n",
       "       [ 150,  156,  162,  168,  174,  180,  186,  192,  198,  204,  210,\n",
       "         216,  222,  228,  234],\n",
       "       [ 200,  208,  216,  224,  232,  240,  248,  256,  264,  272,  280,\n",
       "         288,  296,  304,  312],\n",
       "       [ 250,  260,  270,  280,  290,  300,  310,  320,  330,  340,  350,\n",
       "         360,  370,  380,  390],\n",
       "       [ 300,  312,  324,  336,  348,  360,  372,  384,  396,  408,  420,\n",
       "         432,  444,  456,  468],\n",
       "       [ 350,  364,  378,  392,  406,  420,  434,  448,  462,  476,  490,\n",
       "         504,  518,  532,  546],\n",
       "       [ 400,  416,  432,  448,  464,  480,  496,  512,  528,  544,  560,\n",
       "         576,  592,  608,  624],\n",
       "       [ 450,  468,  486,  504,  522,  540,  558,  576,  594,  612,  630,\n",
       "         648,  666,  684,  702],\n",
       "       [ 500,  520,  540,  560,  580,  600,  620,  640,  660,  680,  700,\n",
       "         720,  740,  760,  780],\n",
       "       [ 550,  572,  594,  616,  638,  660,  682,  704,  726,  748,  770,\n",
       "         792,  814,  836,  858],\n",
       "       [ 600,  624,  648,  672,  696,  720,  744,  768,  792,  816,  840,\n",
       "         864,  888,  912,  936],\n",
       "       [ 650,  676,  702,  728,  754,  780,  806,  832,  858,  884,  910,\n",
       "         936,  962,  988, 1014],\n",
       "       [ 700,  728,  756,  784,  812,  840,  868,  896,  924,  952,  980,\n",
       "        1008, 1036, 1064, 1092]])"
      ]
     },
     "execution_count": 39,
     "metadata": {},
     "output_type": "execute_result"
    }
   ],
   "source": [
    "np.outer(a,b)"
   ]
  },
  {
   "cell_type": "markdown",
   "id": "3ea246bc-8b29-47c6-91cb-9d62d87a9911",
   "metadata": {},
   "source": [
    "<hr>\n",
    "<div>\n",
    "    <h3>Transpose</h3>\n",
    "</div>"
   ]
  },
  {
   "cell_type": "code",
   "execution_count": 40,
   "id": "b791ef69-3aa8-481f-821a-a8d89e7ffef3",
   "metadata": {},
   "outputs": [
    {
     "data": {
      "text/plain": [
       "array([[ 10,  20,  30,  40,  50],\n",
       "       [100, 200, 300, 400, 500]])"
      ]
     },
     "execution_count": 40,
     "metadata": {},
     "output_type": "execute_result"
    }
   ],
   "source": [
    "a = np.array([[10,20,30,40,50],\n",
    "              [100,200,300,400,500]])\n",
    "a"
   ]
  },
  {
   "cell_type": "code",
   "execution_count": 41,
   "id": "3956516c-b2d0-496a-9460-44d19906f382",
   "metadata": {},
   "outputs": [
    {
     "data": {
      "text/plain": [
       "array([[ 10, 100],\n",
       "       [ 20, 200],\n",
       "       [ 30, 300],\n",
       "       [ 40, 400],\n",
       "       [ 50, 500]])"
      ]
     },
     "execution_count": 41,
     "metadata": {},
     "output_type": "execute_result"
    }
   ],
   "source": [
    "a.T # or\n",
    "# np.transpose(a)"
   ]
  },
  {
   "cell_type": "markdown",
   "id": "7cd5a37a-51ac-4447-877c-93919b7af5b9",
   "metadata": {},
   "source": [
    "* martix and its transpose multiplication"
   ]
  },
  {
   "cell_type": "code",
   "execution_count": 42,
   "id": "1c84341a-ceac-444b-9d2e-5a21886e08eb",
   "metadata": {},
   "outputs": [
    {
     "data": {
      "text/plain": [
       "array([[  5500,  55000],\n",
       "       [ 55000, 550000]])"
      ]
     },
     "execution_count": 42,
     "metadata": {},
     "output_type": "execute_result"
    }
   ],
   "source": [
    "np.dot(a,a.T)"
   ]
  },
  {
   "cell_type": "markdown",
   "id": "36d527d6-73ef-4a57-86b1-ad3fe2d49452",
   "metadata": {},
   "source": [
    "<hr><div class=\"alert alert-block alert-success\" style=\"margin-top: 20px\">\n",
    "    <h3>Trace</h3>\n",
    "     <code>Trace</code> function is used to compute the sum of diagonal elements of a matrix\n",
    "</div>"
   ]
  },
  {
   "cell_type": "code",
   "execution_count": 43,
   "id": "cd54c38e-c2e8-4b01-87bc-50f520bc9cab",
   "metadata": {},
   "outputs": [
    {
     "data": {
      "text/plain": [
       "array([[1, 2, 3],\n",
       "       [4, 5, 6],\n",
       "       [7, 8, 9]])"
      ]
     },
     "execution_count": 43,
     "metadata": {},
     "output_type": "execute_result"
    }
   ],
   "source": [
    "a= np.arange(1,10).reshape(3,3)\n",
    "a"
   ]
  },
  {
   "cell_type": "code",
   "execution_count": 44,
   "id": "a39c1f32-e0b4-4698-ad98-6ceed1cc6bda",
   "metadata": {},
   "outputs": [
    {
     "data": {
      "text/plain": [
       "15"
      ]
     },
     "execution_count": 44,
     "metadata": {},
     "output_type": "execute_result"
    }
   ],
   "source": [
    "a.trace()"
   ]
  },
  {
   "cell_type": "markdown",
   "id": "109983ac-1bae-47fa-bdfa-51da7fa168e8",
   "metadata": {},
   "source": [
    "For <code>offset = 1</code>, NumPy considers the diagonal just above the main diagonal."
   ]
  },
  {
   "cell_type": "code",
   "execution_count": 45,
   "id": "891ee638-a515-4c37-a9ae-636120bd1616",
   "metadata": {},
   "outputs": [
    {
     "data": {
      "text/plain": [
       "8"
      ]
     },
     "execution_count": 45,
     "metadata": {},
     "output_type": "execute_result"
    }
   ],
   "source": [
    "np.trace(a,offset=1)  # 2 + 6 = 8"
   ]
  },
  {
   "cell_type": "markdown",
   "id": "5e31e862-cda2-4431-88d7-c13782dcec8f",
   "metadata": {},
   "source": [
    "For <code>offset = -1</code>, NumPy considers the diagonal just below the main diagonal."
   ]
  },
  {
   "cell_type": "code",
   "execution_count": 46,
   "id": "25c2fd2d-a3bb-419e-b500-bb0b542eb125",
   "metadata": {},
   "outputs": [
    {
     "data": {
      "text/plain": [
       "12"
      ]
     },
     "execution_count": 46,
     "metadata": {},
     "output_type": "execute_result"
    }
   ],
   "source": [
    "np.trace(a,offset=-1) # 4 + 8 = 12"
   ]
  },
  {
   "cell_type": "markdown",
   "id": "5982c78d-5861-4d6d-8bd0-aa075f1bf7d4",
   "metadata": {},
   "source": [
    "<hr> <div class=\"alert alert-block alert-danger\" style=\"margin-top: 20px\">\n",
    "<h3>Singular value decomposition (SVD)</h3>\n",
    "<code>SVD</code> decomposes a matrix into three simpler matrices and is widely used in various applications,<br>\n",
    "including dimensionality reduction, noise reduction, and recommendation systems."
   ]
  },
  {
   "cell_type": "markdown",
   "id": "8e483097-61ac-4f7a-849d-4c2bbcba4a7e",
   "metadata": {},
   "source": [
    "Singular Value Decomposition (SVD) always decomposes a matrix \n",
    "𝐴 into three matrices:\n",
    "\n",
    "𝐴 = 𝑈 Σ 𝑉<sup>𝑇</sup>\n",
    " \n",
    "where:<br>\n",
    "𝑈 is an <code>𝑚×𝑚</code> orthogonal matrix (for 𝐴∈𝑅<sup>m×n</sup>).<br>\n",
    "Σ is an <code>𝑚×𝑛</code> diagonal matrix with non-negative real numbers on the diagonal, known as singular values.<br>\n",
    "𝑉 is an <code>𝑛×𝑛</code> orthogonal matrix."
   ]
  },
  {
   "cell_type": "code",
   "execution_count": 47,
   "id": "b01327db-7372-411f-9d5f-182960b90ec0",
   "metadata": {},
   "outputs": [
    {
     "data": {
      "text/plain": [
       "array([[2, 7, 4],\n",
       "       [7, 5, 7],\n",
       "       [3, 3, 8]])"
      ]
     },
     "execution_count": 47,
     "metadata": {},
     "output_type": "execute_result"
    }
   ],
   "source": [
    "a = np.random.randint(1,10,9).reshape(3,3)\n",
    "a"
   ]
  },
  {
   "cell_type": "code",
   "execution_count": 48,
   "id": "bc08c695-45f1-4b46-8f16-23e2f4d2b98a",
   "metadata": {},
   "outputs": [],
   "source": [
    "u,s,v=np.linalg.svd(a,compute_uv=1,full_matrices=True)"
   ]
  },
  {
   "cell_type": "code",
   "execution_count": 49,
   "id": "cd3eb040-8337-4f20-94bb-6e471df5ce80",
   "metadata": {},
   "outputs": [
    {
     "name": "stdout",
     "output_type": "stream",
     "text": [
      "[[-0.47433392 -0.86103008 -0.18339717]\n",
      " [-0.68948214  0.23381453  0.68552545]\n",
      " [-0.54737712  0.45161705 -0.70457103]]\n",
      "--------------------------------------------------\n",
      "[15.78008576  4.1405947   2.80078008]\n",
      "--------------------------------------------------\n",
      "[[-0.47003383 -0.53294257 -0.70359108]\n",
      " [ 0.3065967  -0.84608301  0.43605276]\n",
      " [ 0.82768754  0.01075915 -0.56108607]]\n"
     ]
    }
   ],
   "source": [
    "print(u)\n",
    "print(\"-\"*50)\n",
    "print(s)\n",
    "print(\"-\"*50)\n",
    "print(v)"
   ]
  },
  {
   "cell_type": "code",
   "execution_count": 50,
   "id": "fe2f7fcd-bf55-4a30-9ce4-f86c01641596",
   "metadata": {},
   "outputs": [
    {
     "data": {
      "text/plain": [
       "array([[2., 7., 4.],\n",
       "       [7., 5., 7.],\n",
       "       [3., 3., 8.]])"
      ]
     },
     "execution_count": 50,
     "metadata": {},
     "output_type": "execute_result"
    }
   ],
   "source": [
    "# re-constructing original matrix \n",
    "np.dot(u,np.dot(np.diag(s),v)) "
   ]
  },
  {
   "cell_type": "markdown",
   "id": "76adac56-fd1d-487c-ae03-bb99a168152e",
   "metadata": {},
   "source": [
    "<hr><div class=\"alert alert-block alert-info\" style=\"margin-top: 20px\">\n",
    "<h4>QR decomposition/factorization</h4></div>"
   ]
  },
  {
   "cell_type": "code",
   "execution_count": 51,
   "id": "35e83b63-d888-475f-a62d-f9dbb588a9bb",
   "metadata": {},
   "outputs": [
    {
     "data": {
      "text/plain": [
       "array([[6, 1, 8],\n",
       "       [8, 3, 4],\n",
       "       [7, 1, 6]])"
      ]
     },
     "execution_count": 51,
     "metadata": {},
     "output_type": "execute_result"
    }
   ],
   "source": [
    "a = np.random.randint(1,10,9).reshape(3,3)\n",
    "a"
   ]
  },
  {
   "cell_type": "code",
   "execution_count": 52,
   "id": "0f2f364f-e9e8-4edb-8991-d7518f33ea73",
   "metadata": {},
   "outputs": [],
   "source": [
    "q,r=np.linalg.qr(a)"
   ]
  },
  {
   "cell_type": "code",
   "execution_count": 53,
   "id": "f67f9c1e-c029-4115-a7e1-a5947e7c762f",
   "metadata": {},
   "outputs": [
    {
     "name": "stdout",
     "output_type": "stream",
     "text": [
      "[[-0.49153915  0.36395513 -0.79115481]\n",
      " [-0.65538554 -0.75283869  0.06085806]\n",
      " [-0.57346234  0.54842554  0.60858062]]\n",
      "_ _ _ _ _ _ _ _ _ _ _ _ _ _ _ _ _ _ _ _ _ _ _ _ _ \n",
      "[[-12.20655562  -3.03115811  -9.99462943]\n",
      " [  0.          -1.34613541   3.19083949]\n",
      " [  0.           0.          -2.43432248]]\n"
     ]
    }
   ],
   "source": [
    "print(q)\n",
    "print(\"_ \"*25)\n",
    "print(r)"
   ]
  },
  {
   "cell_type": "code",
   "execution_count": 54,
   "id": "a2d0acba-bca4-4ced-a290-b74161331e04",
   "metadata": {},
   "outputs": [
    {
     "data": {
      "text/plain": [
       "array([[6., 1., 8.],\n",
       "       [8., 3., 4.],\n",
       "       [7., 1., 6.]])"
      ]
     },
     "execution_count": 54,
     "metadata": {},
     "output_type": "execute_result"
    }
   ],
   "source": [
    "#reconstructing original matrix\n",
    "np.dot(q,r)"
   ]
  },
  {
   "cell_type": "markdown",
   "id": "89dbb416-c7ad-4f1b-81e1-079dcc024e10",
   "metadata": {},
   "source": [
    "<hr><div >\n",
    "    <h3><code>Eigenvalues</code> and <code>eigenvectors</code></h3>\n",
    "</div><hr>"
   ]
  },
  {
   "cell_type": "code",
   "execution_count": 55,
   "id": "e2ade16d-4aae-48af-bef4-358670f577ac",
   "metadata": {},
   "outputs": [],
   "source": [
    "w,v=np.linalg.eig(a)"
   ]
  },
  {
   "cell_type": "code",
   "execution_count": 56,
   "id": "d4da6e25-65ab-4f22-9d83-c2bf29cae212",
   "metadata": {},
   "outputs": [
    {
     "name": "stdout",
     "output_type": "stream",
     "text": [
      "[14.53548966 -1.44280535  1.90731569]\n",
      "_ _ _ _ _ _ _ _ _ _ _ _ _ _ _ _ _ _ _ _ _ _ _ _ _ \n",
      "[[ 0.58503818  0.59664122  0.09879198]\n",
      " [ 0.59632797 -0.64745462 -0.99238939]\n",
      " [ 0.54965742 -0.47415373  0.07350813]]\n"
     ]
    }
   ],
   "source": [
    "print(w)\n",
    "print(\"_ \"*25)\n",
    "print(v)"
   ]
  },
  {
   "cell_type": "markdown",
   "id": "4852420c-a4f2-48e8-8cc0-36518b531d7d",
   "metadata": {},
   "source": [
    "<hr><div><h3>Let's solve <code>linear equations</code> using <code>NumPy</code></h3></div><hr>"
   ]
  },
  {
   "cell_type": "markdown",
   "id": "faf7a976-367e-4f57-aea8-d60b659a7b9a",
   "metadata": {},
   "source": [
    "Solve these equations:<br>\n",
    "<li>4x + 2y - z = 5</li>\n",
    "<li>3x - y + 2z = -2</li>\n",
    "<li>x + 3y + z = 9</li>"
   ]
  },
  {
   "cell_type": "code",
   "execution_count": 57,
   "id": "17cc675a-b5ff-4e44-80ed-42a0760facc3",
   "metadata": {},
   "outputs": [
    {
     "data": {
      "text/plain": [
       "array([[ 4,  2, -1],\n",
       "       [ 3, -1,  2],\n",
       "       [ 1,  3,  1]])"
      ]
     },
     "execution_count": 57,
     "metadata": {},
     "output_type": "execute_result"
    }
   ],
   "source": [
    "# we will collect coefficient(with sign) of x,y,z ; column-wise\n",
    "a = np.array([[4,2,-1],[3,-1,2],[1,3,1]])\n",
    "a"
   ]
  },
  {
   "cell_type": "code",
   "execution_count": 58,
   "id": "c59ae93e-9867-413d-bf9e-24388b66faf5",
   "metadata": {},
   "outputs": [
    {
     "data": {
      "text/plain": [
       "array([ 5, -2,  9])"
      ]
     },
     "execution_count": 58,
     "metadata": {},
     "output_type": "execute_result"
    }
   ],
   "source": [
    "b = np.array([5,-2,9])\n",
    "b"
   ]
  },
  {
   "cell_type": "code",
   "execution_count": 59,
   "id": "a44d959c-1ca8-4786-864c-0559ccc51434",
   "metadata": {},
   "outputs": [
    {
     "data": {
      "text/plain": [
       "array([-0.05,  2.85,  0.5 ])"
      ]
     },
     "execution_count": 59,
     "metadata": {},
     "output_type": "execute_result"
    }
   ],
   "source": [
    "np.linalg.solve(a,b) #or\n",
    "# x,y,z = np.linalg.solve(a,b)"
   ]
  },
  {
   "cell_type": "code",
   "execution_count": null,
   "id": "ccfdec74-a926-401f-84dd-62ebe7ba9d2a",
   "metadata": {},
   "outputs": [],
   "source": []
  }
 ],
 "metadata": {
  "kernelspec": {
   "display_name": "Python 3 (ipykernel)",
   "language": "python",
   "name": "python3"
  },
  "language_info": {
   "codemirror_mode": {
    "name": "ipython",
    "version": 3
   },
   "file_extension": ".py",
   "mimetype": "text/x-python",
   "name": "python",
   "nbconvert_exporter": "python",
   "pygments_lexer": "ipython3",
   "version": "3.12.1"
  }
 },
 "nbformat": 4,
 "nbformat_minor": 5
}
